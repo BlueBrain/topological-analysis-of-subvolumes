{
 "cells": [
  {
   "cell_type": "markdown",
   "id": "4386cbcd-2684-448c-b924-c237130f5de2",
   "metadata": {},
   "source": [
    "Let us setup an interactive `Python` session where we can run the code\n",
    "developed here.\n",
    "\n",
    "``` jupyter\n",
    "print(\"Welcome to EMACS Jupyter\")\n",
    "```\n",
    "\n",
    "We develop topological analyses of brain circuits, and implement\n",
    "`Python` code that we can use with to configure a `connsense-pipeline`.\n",
    "Instead of the connectivity of the whole circuit *Mosaic*, our focus\n",
    "will be `circuit-subtargets` that are geometrically defined. We will\n",
    "start by describing how to configure a `connsense-pipeline`, run it, and\n",
    "use `connsensnse-tap` to access and analyze the data.\n",
    "\n",
    "# Setup\n",
    "\n",
    "In our discussion we will develop scientific concepts to measure the\n",
    "circuit, and implement Python functions to compute them. Here we setup a\n",
    "notebook template to test and explore, and the structure of a `Python`\n",
    "package for our methods.\n",
    "\n",
    "To get the notebook you will have to clone,\n",
    "\n",
    "``` shell\n",
    "git clone https://bbpgitlab.epfl.ch/conn/structural/topological-analysis-of-subvolumes.git\n",
    "git checkout beta\n",
    "```"
   ]
  },
  {
   "cell_type": "code",
   "execution_count": null,
   "id": "notebook-init",
   "metadata": {},
   "outputs": [],
   "source": [
    "from importlib import reload\n",
    "from collections.abc import Mapping\n",
    "from collections import OrderedDict\n",
    "from pprint import pprint, pformat\n",
    "from pathlib import Path\n",
    "\n",
    "import numpy as np\n",
    "import pandas as pd\n",
    "\n",
    "import matplotlib\n",
    "\n",
    "reload(matplotlib)\n",
    "from matplotlib import pylab as plt\n",
    "import seaborn as sbn\n",
    "\n",
    "from IPython.display import display\n",
    "\n",
    "from bluepy import Synapse, Cell, Circuit\n",
    "\n",
    "GOLDEN = (1. + np.sqrt(5.))/2.\n",
    "print(\"We will plot golden aspect ratios: \", GOLDEN)\n"
   ]
  },
  {
   "cell_type": "markdown",
   "id": "b40e969d-f51f-4cab-a970-ef2d3c22f155",
   "metadata": {
    "heading_collapsed": true
   },
   "source": [
    "## Workspaces\n",
    "\n",
    "We have run `connsense-CRAP` for the SSCx dissemination variant *Bio-M*,\n",
    "extracting data that we will use to compute the factology. Here is a\n",
    "list of workspaces we will need to generate factsheets."
   ]
  },
  {
   "cell_type": "code",
   "execution_count": null,
   "id": "notebook-workspaces",
   "metadata": {
    "hidden": true
   },
   "outputs": [],
   "source": [
    "ROOTSPACE = Path(\"/\")\n",
    "PROJSPACE = ROOTSPACE / \"gpfs/bbp.cscs.ch/project/proj83\"\n",
    "SOODSPACE = PROJSPACE / \"home/sood\"\n",
    "CONNSPACE = SOODSPACE / \"topological-analysis-subvolumes/test/v2\"\n",
    "DEVSPACE  = CONNSPACE / \"test\" / \"develop\"\n"
   ]
  },
  {
   "cell_type": "markdown",
   "id": "e35e59dd-4f32-429e-a434-419caec44e7f",
   "metadata": {
    "heading_collapsed": true
   },
   "source": [
    "## `connsense` Modules\n",
    "\n",
    "While test-developing it will be good to have direct access to the\n",
    "`connsense-TAP-store` we will use. We will use a module from `connsense`\n",
    "to load the HDFstore,"
   ]
  },
  {
   "cell_type": "code",
   "execution_count": null,
   "id": "notebook-connsense-tap",
   "metadata": {
    "hidden": true
   },
   "outputs": [],
   "source": [
    "from connsense.develop import topotap as cnstap\n",
    "tap = cnstap.HDFStore(CONNSPACE/\"pipeline.yaml\")\n",
    "circuit = tap.get_circuit(\"Bio_M\")\n",
    "print(\"Available analyses: \")\n",
    "pprint(tap.analyses)\n"
   ]
  },
  {
   "cell_type": "markdown",
   "id": "fe094ea6-ad22-48c1-acde-d157378d4f55",
   "metadata": {},
   "source": [
    "# Introduction\n",
    "\n",
    "We will study flatmap columns. In the circuit's flatmap we have the\n",
    "following grid,"
   ]
  },
  {
   "cell_type": "code",
   "execution_count": null,
   "id": "b90839c1-96e3-4cd9-8418-2cc1ecad0760",
   "metadata": {
    "tangle": "develop_topotap.py"
   },
   "outputs": [],
   "source": [
    "from flatmap_utility import subtargets as fmst, tessellate\n",
    "flat_xys = fmst.fmap_positions(in_data=circuit)\n",
    "tritille = tessellate.TriTille(230.0)\n",
    "graphic_fmap_cells = tritille.plot_hextiles(flat_xys,\n",
    "                                            annotate=False, with_grid=False, pointmarker=\".\", pointmarkersize=0.05)\n",
    "graphic_fmap_cells[0]\n"
   ]
  },
  {
   "cell_type": "markdown",
   "id": "574fa85e-e2e8-4f91-84c8-5f7dcd21f54e",
   "metadata": {},
   "source": [
    "# Pipeline: TODO\n",
    "\n",
    "# TAP CLI\n",
    "\n",
    "# Subtargets\n",
    "\n",
    "We have information about subtargets in `tap`,"
   ]
  },
  {
   "cell_type": "code",
   "execution_count": null,
   "id": "0d1dccae-2910-4f41-8100-cd77292bc394",
   "metadata": {
    "tangle": "no"
   },
   "outputs": [],
   "source": [
    "display(tap.subtargets)\n"
   ]
  },
  {
   "cell_type": "markdown",
   "id": "c69bd137-6b3a-4fb2-ad16-41e553f443c6",
   "metadata": {},
   "source": [
    "Each one is a straight up cylinderical column in the flatmap-space, and\n",
    "a conical column in circuit's physical space. Each `subtarget` is\n",
    "associated with a list of gids,"
   ]
  },
  {
   "cell_type": "code",
   "execution_count": null,
   "id": "2fcd2264-af08-4535-8e10-58b40781af7f",
   "metadata": {
    "tangle": "no"
   },
   "outputs": [],
   "source": [
    "fig_subtarget_sizes = plt.figure(figsize=(GOLDEN * 8, 8))\n",
    "\n",
    "ax = sbn.histplot(tap.subtarget_gids.apply(len).values, bins=25,\n",
    "                  ax=fig_subtarget_sizes.add_subplot())\n"
   ]
  },
  {
   "cell_type": "markdown",
   "id": "1367d51d-94b5-439b-ac64-dbf649847373",
   "metadata": {},
   "source": [
    "# Nodes\n",
    "\n",
    "We extract node properties as `extract-node-populations/default`, and\n",
    "can access the node-properties using `tap`,"
   ]
  },
  {
   "cell_type": "code",
   "execution_count": null,
   "id": "1e726e80-30ba-4e4e-8df7-4fd7f8221eca",
   "metadata": {
    "tangle": "no"
   },
   "outputs": [],
   "source": [
    "nodes = cnstap.TapDataset(tap, (\"extract-node-populations\", \"default\"), belazy=False)\n"
   ]
  },
  {
   "cell_type": "markdown",
   "id": "26e3eb4e-cabf-49a2-88ed-bc6a0b6ad750",
   "metadata": {},
   "source": [
    "As you can tell from the numbers that the `nodes` dataframe contains all\n",
    "the nodes in all the subtargets (*i.e* all circuit nodes except those\n",
    "that could not be flatmapped). This dataframe is no different from the\n",
    "`circuit.cells` one, except that the `subtarget` is avaialble in the\n",
    "index,"
   ]
  },
  {
   "cell_type": "code",
   "execution_count": null,
   "id": "dca9b029-638c-4140-8126-b34d6301546f",
   "metadata": {
    "tangle": "no"
   },
   "outputs": [],
   "source": [
    "display(nodes.frame[ [\"gid\", \"layer\", \"mtype\"] ].head())\n"
   ]
  },
  {
   "cell_type": "markdown",
   "id": "71110fa6-7b54-43f1-aaff-05ab6b383947",
   "metadata": {},
   "source": [
    "Notice the `node_id` which is not the same as `gid`. The `node_id` value\n",
    "is local to the `subtarget`.\n",
    "\n",
    "# Adjacency matrices\n",
    "\n",
    "Adjacency matrices for edges in the local connectome were extracted as\n",
    "`extract-edge-populations/local`. This data is stored as sparse\n",
    "matrices, and hence using `.frame` on the non-lazy data not make much\n",
    "sense. The data is also much larger than nodes. We should stick to the\n",
    "lazy `datacalls` loaded by `tap`,"
   ]
  },
  {
   "cell_type": "code",
   "execution_count": null,
   "id": "d13d45a6-dd83-4dc8-8c11-a1c3a248cecf",
   "metadata": {
    "tangle": "no"
   },
   "outputs": [],
   "source": [
    "display(tap.adjacency.frame.head())\n"
   ]
  },
  {
   "cell_type": "markdown",
   "id": "fce77e71-9246-4491-af97-26b6ee7eb7e8",
   "metadata": {},
   "source": [
    "Each entry can be expanded when needed,"
   ]
  },
  {
   "cell_type": "code",
   "execution_count": null,
   "id": "b186d360-ca5e-4861-ba6a-8ae02ecdf4d1",
   "metadata": {
    "tangle": "no"
   },
   "outputs": [],
   "source": [
    "adj = tap.adjacency.dataset.iloc[0]()\n",
    "\n",
    "print(\"matrix of type\", type(adj), \"and shape\", adj.shape,\n",
    "      \"number of connections\", adj.astype(bool).sum())\n"
   ]
  },
  {
   "cell_type": "markdown",
   "id": "e286b8be-b227-4001-bf77-fbaa1c6ea98b",
   "metadata": {},
   "source": [
    "# Analyses\n",
    "\n",
    "## Simplex counts\n",
    "\n",
    "We already have results for simplex-counts in a `tap-store` resulting\n",
    "from a run of the \\~connsense-pipeline- developed in <span\n",
    "class=\"spurious-link\" target=\"Pipeline\">*Pipeline*</span>. Let us load\n",
    "the simplex-counts,"
   ]
  },
  {
   "cell_type": "code",
   "execution_count": null,
   "id": "ce16a366-1196-4ebf-8e5e-44df7618b37c",
   "metadata": {},
   "outputs": [],
   "source": [
    "simplex_counts = cnstap.TapDataset(tap, (\"analyze-connectivity\", \"simplex-counts\"),\n",
    "                                   belazy=False)\n",
    "print(\"Simplex counts as a %s\"%(type(simplex_counts),))\n"
   ]
  },
  {
   "cell_type": "markdown",
   "id": "5d204986-90c4-4dd1-bf05-063366e0f6e8",
   "metadata": {},
   "source": [
    "We have run simplex counts for both the full (original and 5 ER\n",
    "controls) adjacency matrices, and their slices by layer. We can load the\n",
    "results for the `full-flatcolumns` as a dataframe,"
   ]
  },
  {
   "cell_type": "code",
   "execution_count": null,
   "id": "cc93621b-862d-4d96-a1d8-8b726232b423",
   "metadata": {},
   "outputs": [],
   "source": [
    "simplex_counts.frame[\"full\"]\n"
   ]
  },
  {
   "cell_type": "markdown",
   "id": "120f4ef3-c110-446c-aa79-6f8ef38725e4",
   "metadata": {},
   "source": [
    "This computation will take a while, as all the simplex counts, for both\n",
    "the full and layer will be decompressed from `connsense.h5` and loaded\n",
    "into a `pandas.DataFrame`. In about a minute you should see the result.\n",
    "Once loaded, the dataframe will stay with the object\n",
    "`simplex_counts.frame`. For layers we have an extra level in the index,"
   ]
  },
  {
   "cell_type": "code",
   "execution_count": null,
   "id": "0fa33264-670b-4a96-bf1f-7b1d2e8dd4d2",
   "metadata": {},
   "outputs": [],
   "source": [
    "simplex_counts.frame[\"layer\"]\n"
   ]
  },
  {
   "cell_type": "markdown",
   "id": "7b1d34af-c581-4232-a542-e4513a57cedc",
   "metadata": {},
   "source": [
    "We find a `nan` where no simplices were found. Each individual\n",
    "computation on a single `flatcolumn` returns an array / series of\n",
    "simplex counts by dimension *upto* the maximum dimension of simplices\n",
    "found in that `flatcolumn`. When we concatenated these data into a\n",
    "single `frame`, the max-dimension was set to the maximum of maxima over\n",
    "all `flatcolumns` (and their randomizations). This filled in `nan`\n",
    "values for `flatcolumns` that did not have the higher missing\n",
    "dimensions. While we can replace the `nans` by zeros, as that is what\n",
    "they mean, they do offer a convenient way to compute the max-dimension,"
   ]
  },
  {
   "cell_type": "code",
   "execution_count": null,
   "id": "4ee85ad5-7d95-4d58-bd81-d6dad32095f0",
   "metadata": {},
   "outputs": [],
   "source": [
    "from tqdm import tqdm; tqdm.pandas()\n",
    "\n",
    "maxdim = (simplex_counts.frame[\"full\"]\n",
    "          .apply(lambda subtarget: len(subtarget.dropna()), axis=1)\n",
    "          .rename(\"dim\"))\n",
    "\n",
    "display(maxdim)\n"
   ]
  },
  {
   "cell_type": "markdown",
   "id": "32c8fed5-f1ca-4543-8f18-dc93d543828c",
   "metadata": {},
   "source": [
    "which we can convert to a plot,"
   ]
  },
  {
   "cell_type": "code",
   "execution_count": null,
   "id": "51ead533-cf08-41d9-a9bd-761fa280dbdb",
   "metadata": {
    "tangle": "no"
   },
   "outputs": [],
   "source": [
    "fig_maxdim = plt.figure(figsize=(GOLDEN * 8, 8))\n",
    "_ax = sbn.violinplot(x=\"control\", y=\"dim\", data=maxdim.reset_index(),\n",
    "                     ax=fig_maxdim.add_subplot())\n",
    "fig_maxdim\n"
   ]
  },
  {
   "attachments": {
    "./figures/violins_maxdim_vs_control.png": {
     "image/png": "[encoded data removed]"
    }
   },
   "cell_type": "markdown",
   "id": "2b8e6de3-e0ba-4ee8-85c5-58517930d05b",
   "metadata": {},
   "source": [
    "<img src=\"attachment:./figures/violins_maxdim_vs_control.png\"\n",
    "style=\"width:95.0%\" />\n",
    "\n",
    "What about each layer?"
   ]
  },
  {
   "cell_type": "code",
   "execution_count": null,
   "id": "4fe7dea4-32a5-408b-b38c-7360bdc6fea0",
   "metadata": {},
   "outputs": [],
   "source": [
    "maxdim_by_layer = (simplex_counts.frame[\"layer\"]\n",
    "                   .apply(lambda subtarget: len(subtarget.dropna()), axis=1)\n",
    "                   .rename(\"dim\"))\n",
    "\n",
    "display(maxdim_by_layer)\n"
   ]
  },
  {
   "cell_type": "markdown",
   "id": "366ba938-8d65-45da-94e2-bbc9922fac41",
   "metadata": {},
   "source": [
    "and it looks like,"
   ]
  },
  {
   "cell_type": "code",
   "execution_count": null,
   "id": "6e0d38a3-b594-457d-a3f9-73a9bcbc5dc0",
   "metadata": {
    "tangle": "no"
   },
   "outputs": [],
   "source": [
    "fig_maxdim_by_layer = plt.figure(figsize=(GOLDEN * 8, 8))\n",
    "_ax = sbn.violinplot(x=\"control\", y=\"dim\", hue=\"layer\", data=maxdim_by_layer.reset_index(),\n",
    "                     ax=fig_maxdim_by_layer.add_subplot())\n",
    "fig_maxdim_by_layer\n"
   ]
  },
  {
   "cell_type": "markdown",
   "id": "c76ffb25-61a7-4dee-946c-f60e3c1e5b89",
   "metadata": {},
   "source": [
    "## Model Params DD2\n",
    "\n",
    "Loading the results for second order distance dependent model is similar\n",
    "to simplex counts,"
   ]
  },
  {
   "cell_type": "code",
   "execution_count": null,
   "id": "59875305-b4e1-4d9e-83a8-3299f66ae89a",
   "metadata": {},
   "outputs": [],
   "source": [
    "params_dd2 = cnstap.TapDataset(tap, (\"analyze-connectivity\", \"model-params-dd2\"),\n",
    "                               belazy=False)\n",
    "display(params_dd2.frame)\n"
   ]
  },
  {
   "cell_type": "markdown",
   "id": "d85a7977-a82d-4566-9205-c81388ec66b4",
   "metadata": {},
   "source": [
    "# Simplices\n",
    "\n",
    "We would like to analyze higher order statistics of simplices than the\n",
    "humble simplex counts. We could save simplices as lists for each\n",
    "subtarget input. However this data can be large. To reduce the computed\n",
    "data's size, we can compute statistics on each `subtarget`'s simplices,"
   ]
  },
  {
   "cell_type": "code",
   "execution_count": null,
   "id": "46a5e62c-d20e-4c89-b9be-36a6456340b3",
   "metadata": {},
   "outputs": [],
   "source": [
    "def node_participation(simplices):\n",
    "    \"\"\"Compute node participation from DataFrame of simplices,\n",
    "    containing a list of simplices in each row.\n",
    "    \"\"\"\n",
    "    return simplices.apply(lambda column: column.value_counts(), axis=0).fillna(0).astype(int)\n"
   ]
  },
  {
   "cell_type": "markdown",
   "id": "8485ffb5-daf7-4d9c-884b-9294e9ad2c07",
   "metadata": {},
   "source": [
    "or for edge participation,"
   ]
  },
  {
   "cell_type": "code",
   "execution_count": null,
   "id": "5412a607-a1be-4a45-95b1-8d5b1141d31a",
   "metadata": {},
   "outputs": [],
   "source": [
    "def edge_participation(simplices):\n",
    "    \"\"\"Compute node participation from DataFrame of simplices,\n",
    "    containing a list of simplices in each row.\n",
    "    \"\"\"\n",
    "    edge_positions = list(range(simplices.shape[1]))[:-1]\n",
    "\n",
    "    def value_count_edge(position):\n",
    "        counts = simplices[ [position, position+1] ].value_counts().rename(position)\n",
    "        counts.index.rename([\"source\", \"target\"], inplace=True)\n",
    "        return counts\n",
    "\n",
    "    return pd.concat([value_count_edge(p) for p in edge_positions], axis=1).fillna(0).astype(int)\n"
   ]
  },
  {
   "cell_type": "markdown",
   "id": "625617b7-9cc9-4fee-ba85-d4342fb2072b",
   "metadata": {},
   "source": [
    "# Scratch"
   ]
  },
  {
   "cell_type": "code",
   "execution_count": null,
   "id": "6159d7db-9185-4d25-98e1-c86f7a658801",
   "metadata": {
    "tangle": "no"
   },
   "outputs": [],
   "source": []
  }
 ],
 "metadata": {
  "kernelspec": {
   "display_name": "Python 3",
   "language": "python",
   "name": "python3"
  },
  "language_info": {
   "codemirror_mode": {
    "name": "ipython",
    "version": 3
   },
   "file_extension": ".py",
   "mimetype": "text/x-python",
   "name": "python",
   "nbconvert_exporter": "python",
   "pygments_lexer": "ipython3",
   "version": "3.9.16"
  },
  "toc": {
   "base_numbering": 1,
   "nav_menu": {},
   "number_sections": true,
   "sideBar": true,
   "skip_h1_title": false,
   "title_cell": "Table of Contents",
   "title_sidebar": "Contents",
   "toc_cell": false,
   "toc_position": {},
   "toc_section_display": true,
   "toc_window_display": false
  }
 },
 "nbformat": 4,
 "nbformat_minor": 5
}

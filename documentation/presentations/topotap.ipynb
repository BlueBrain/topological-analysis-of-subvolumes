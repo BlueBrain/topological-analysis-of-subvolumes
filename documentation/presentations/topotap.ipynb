{
 "cells": [
  {
   "cell_type": "markdown",
   "id": "9c3434b8-3577-4845-a2c9-7aa898241e4b",
   "metadata": {},
   "source": [
    "Let us setup an interactive `Python` session where we can run the code\n",
    "developed here.\n",
    "\n",
    "``` jupyter\n",
    "print(\"Welcome to EMACS Jupyter\")\n",
    "```\n",
    "\n",
    "We develop topological analyses of brain circuits, and implement\n",
    "`Python` code that we can use with to configure a `connsense-pipeline`.\n",
    "Instead of the connectivity of the whole circuit *Mosaic*, our focus\n",
    "will be `circuit-subtargets` that are geometrically defined. We will\n",
    "start by describing how to configure a `connsense-pipeline`, run it, and\n",
    "use `connsensnse-tap` to access and analyze the data.\n",
    "\n",
    "# Setup\n",
    "\n",
    "In our discussion we will develop scientific concepts to measure the\n",
    "circuit, and implement Python functions to compute them. Here we setup a\n",
    "notebook template to test and explore, and the structure of a `Python`\n",
    "package for our methods.\n",
    "\n",
    "## Introduction"
   ]
  },
  {
   "cell_type": "code",
   "execution_count": null,
   "id": "notebook-init",
   "metadata": {},
   "outputs": [],
   "source": [
    "from importlib import reload\n",
    "from collections.abc import Mapping\n",
    "from collections import OrderedDict\n",
    "from pprint import pprint, pformat\n",
    "from pathlib import Path\n",
    "\n",
    "import numpy as np\n",
    "import pandas as pd\n",
    "\n",
    "import matplotlib\n",
    "\n",
    "reload(matplotlib)\n",
    "from matplotlib import pylab as plt\n",
    "import seaborn as sbn\n",
    "\n",
    "from IPython.display import display\n",
    "\n",
    "from bluepy import Synapse, Cell, Circuit\n",
    "\n",
    "GOLDEN = (1. + np.sqrt(5.))/2.\n",
    "print(\"We will plot golden aspect ratios: \", GOLDEN)\n"
   ]
  },
  {
   "cell_type": "markdown",
   "id": "0febd1df-88a8-49d2-a81a-de4edf38fb41",
   "metadata": {},
   "source": [
    "## Workspaces\n",
    "\n",
    "We have run `connsense-CRAP` for the SSCx dissemination variant *Bio-M*,\n",
    "extracting data that we will use to compute the factology. Here is a\n",
    "list of workspaces we will need to generate factsheets."
   ]
  },
  {
   "cell_type": "code",
   "execution_count": null,
   "id": "notebook-workspaces",
   "metadata": {},
   "outputs": [],
   "source": [
    "ROOTSPACE = Path(\"/\")\n",
    "PROJSPACE = ROOTSPACE / \"gpfs/bbp.cscs.ch/project/proj83\"\n",
    "SOODSPACE = PROJSPACE / \"home/sood\"\n",
    "CONNSPACE = SOODSPACE / \"topological-analysis-subvolumes/test/v2\"\n",
    "DEVSPACE  = CONNSPACE / \"test\" / \"develop\"\n"
   ]
  },
  {
   "cell_type": "markdown",
   "id": "925fb6fc-3652-45af-97e0-89ba3275b5df",
   "metadata": {},
   "source": [
    "## `connsense` Modules\n",
    "\n",
    "While test-developing it will be good to have direct access to the\n",
    "`connsense-TAP-store` we will use. We will use a module from `connsense`\n",
    "to load the HDFstore,"
   ]
  },
  {
   "cell_type": "code",
   "execution_count": null,
   "id": "notebook-connsense-tap",
   "metadata": {},
   "outputs": [],
   "source": [
    "from connsense.develop import topotap as cnstap\n",
    "tap = cnstap.HDFStore(CONNSPACE/\"pipeline.yaml\")\n",
    "circuit = tap.get_circuit(\"Bio_M\")\n",
    "print(\"Available analyses: \")\n",
    "pprint(tap.analyses)\n"
   ]
  },
  {
   "cell_type": "markdown",
   "id": "d995b142-d7de-4469-bb2a-82b17d1e9e6c",
   "metadata": {},
   "source": [
    "## Notebook template\n",
    "\n",
    "Finally, here is a template that we can use to start test-developing. We\n",
    "will deposit the code in a sub-directory, of the directory holding this\n",
    "file."
   ]
  },
  {
   "cell_type": "code",
   "execution_count": null,
   "id": "720f6671-c068-45f6-8379-125f9b5738f2",
   "metadata": {
    "comments": "no",
    "noweb": "yes",
    "padline": "yes",
    "tangle": "develop_topotap.py"
   },
   "outputs": [],
   "source": [
    "<<notebook-init>>\n",
    "\n",
    "<<notebook-workspaces>>\n",
    "\n",
    "<<notebook-connsense-tap>>\n",
    "\n",
    "<<notebook-reloads>>\n"
   ]
  },
  {
   "cell_type": "markdown",
   "id": "8aaeb2d1-06cb-4908-81ec-6d72f7cc3876",
   "metadata": {},
   "source": [
    "# Introduction\n",
    "\n",
    "We will study flatmap columns. In the circuit's flatmap we have the\n",
    "following grid,"
   ]
  },
  {
   "cell_type": "code",
   "execution_count": null,
   "id": "5441f63b-1bdb-400f-84b9-7064f28fd62e",
   "metadata": {
    "tangle": "develop_topotap.py"
   },
   "outputs": [],
   "source": [
    "from flatmap_utility import subtargets as fmst, tessellate\n",
    "flat_xys = fmst.fmap_positions(in_data=circuit)\n",
    "tritille = tessellate.TriTille(230.0)\n",
    "graphic_fmap_cells = tritille.plot_hextiles(flat_xys,\n",
    "                                            annotate=False, with_grid=False, pointmarker=\".\", pointmarkersize=0.05)\n",
    "graphic_fmap_cells[0]\n"
   ]
  },
  {
   "cell_type": "markdown",
   "id": "964e51e9-bfdd-4601-8354-6efb3c0fab5b",
   "metadata": {},
   "source": [
    "# Pipeline: TODO\n",
    "\n",
    "# TAP CLI\n",
    "\n",
    "# Subtargets\n",
    "\n",
    "We have information about subtargets in `tap`,"
   ]
  },
  {
   "cell_type": "code",
   "execution_count": null,
   "id": "f848990e-db89-4528-99a4-26b7282f508c",
   "metadata": {
    "tangle": "no"
   },
   "outputs": [],
   "source": [
    "display(tap.subtargets)\n"
   ]
  },
  {
   "cell_type": "markdown",
   "id": "77c98add-179f-43d5-85ee-ab3b27e36fa7",
   "metadata": {},
   "source": [
    "Each one is a straight up cylinderical column in the flatmap-space, and\n",
    "a conical column in circuit's physical space. Each `subtarget` is\n",
    "associated with a list of gids,"
   ]
  },
  {
   "cell_type": "code",
   "execution_count": null,
   "id": "0c91d95c-74ca-4092-b9de-29647547e7da",
   "metadata": {
    "tangle": "no"
   },
   "outputs": [],
   "source": [
    "fig_subtarget_sizes = plt.figure(figsize=(GOLDEN * 8, 8))\n",
    "\n",
    "ax = sbn.histplot(tap.subtarget_gids.apply(len).values, bins=25,\n",
    "                  ax=fig_subtarget_sizes.add_subplot())\n"
   ]
  },
  {
   "attachments": {
    "./figures/subtarget-sizes.png": {
     "image/png": "[encoded data removed]"
    }
   },
   "cell_type": "markdown",
   "id": "0048375c-6570-4624-8773-bdd3ef07ba1e",
   "metadata": {},
   "source": [
    "<img src=\"attachment:./figures/subtarget-sizes.png\"\n",
    "style=\"width:95.0%\" />\n",
    "\n",
    "# Nodes\n",
    "\n",
    "We extract node properties as `extract-node-populations/default`, and\n",
    "can access the node-properties using `tap`,"
   ]
  },
  {
   "cell_type": "code",
   "execution_count": null,
   "id": "74f76bd3-03c1-4faa-a1fd-35cdca557031",
   "metadata": {
    "no": "yes",
    "tangle": "yes"
   },
   "outputs": [],
   "source": [
    "nodes = cnstap.TapDataset(tap, (\"extract-node-populations\", \"default\"), belazy=False)\n"
   ]
  },
  {
   "cell_type": "markdown",
   "id": "993742be-e160-4613-bc5a-0a83d60b95df",
   "metadata": {},
   "source": [
    "We can get a frame for all the nodes over all the subtargets by calling\n",
    "`.frame`,"
   ]
  },
  {
   "cell_type": "code",
   "execution_count": null,
   "id": "a9fa4f66-1ace-481f-b527-3ebd562c7607",
   "metadata": {
    "no": "yes",
    "tangle": "yes"
   },
   "outputs": [],
   "source": [
    "nodes.frame.describe()\n"
   ]
  },
  {
   "cell_type": "markdown",
   "id": "14cd8513-0913-4f3e-9732-1da6dae3bc8f",
   "metadata": {},
   "source": [
    "As you can tell from the numbers that the `nodes` dataframe contains all\n",
    "the nodes in all the subtargets (*i.e* all circuit nodes except those\n",
    "that could not be flatmapped). This dataframe is no different from the\n",
    "`circuit.cells` one, except that the `subtarget` is avaialble in the\n",
    "index,"
   ]
  },
  {
   "cell_type": "code",
   "execution_count": null,
   "id": "6545b4d2-6aa4-4e12-94e1-39ca31d0c9e3",
   "metadata": {
    "tangle": "no"
   },
   "outputs": [],
   "source": [
    "display(nodes.frame[ [\"gid\", \"layer\", \"mtype\"] ].head())\n"
   ]
  },
  {
   "cell_type": "markdown",
   "id": "2522bd04-be16-4e99-bd14-8465972e36fc",
   "metadata": {},
   "source": [
    "Notice the `node_id` which is not the same as `gid`. The `node_id` value\n",
    "is local to the `subtarget`.\n",
    "\n",
    "# Adjacency matrices\n",
    "\n",
    "Adjacency matrices for edges in the local connectome were extracted as\n",
    "`extract-edge-populations/local`. This data is stored as sparse\n",
    "matrices, and hence using `.frame` on the non-lazy data not make much\n",
    "sense. The data is also much larger than nodes. We should stick to the\n",
    "lazy `datacalls` loaded by `tap`,"
   ]
  },
  {
   "cell_type": "code",
   "execution_count": null,
   "id": "af6c929c-6263-4256-a425-70cb1972b1c1",
   "metadata": {
    "tangle": "no"
   },
   "outputs": [],
   "source": [
    "display(tap.adjacency.frame.head())\n"
   ]
  },
  {
   "cell_type": "markdown",
   "id": "358a070a-107b-488e-b84f-bee70d1f01ca",
   "metadata": {},
   "source": [
    "Each entry can be expanded when needed,"
   ]
  },
  {
   "cell_type": "code",
   "execution_count": null,
   "id": "82157c3b-5559-4d94-a5c5-8e10f1a43a69",
   "metadata": {
    "tangle": "no"
   },
   "outputs": [],
   "source": [
    "adj = tap.adjacency.dataset.iloc[0]()\n",
    "\n",
    "print(\"matrix of type\", type(adj), \"and shape\", adj.shape,\n",
    "      \"number of connections\", adj.astype(bool).sum())\n"
   ]
  },
  {
   "cell_type": "markdown",
   "id": "96425df1-74dc-4b3d-9049-5880efc326fe",
   "metadata": {},
   "source": [
    "# Analyses\n",
    "\n",
    "## Simplex counts\n",
    "\n",
    "We already have results for simplex-counts in a `tap-store` resulting\n",
    "from a run of the \\~connsense-pipeline- developed in <span\n",
    "class=\"spurious-link\" target=\"Pipeline\">*Pipeline*</span>. Let us load\n",
    "the simplex-counts,"
   ]
  },
  {
   "cell_type": "code",
   "execution_count": null,
   "id": "301b6689-4fd6-4133-9d13-11c28331c842",
   "metadata": {},
   "outputs": [],
   "source": [
    "simplex_counts = cnstap.TapDataset(tap, (\"analyze-connectivity\", \"simplex-counts\"),\n",
    "                                   belazy=False)\n",
    "print(\"Simplex counts as a %s\"%(type(simplex_counts),))\n"
   ]
  },
  {
   "cell_type": "markdown",
   "id": "c9f78c58-e18b-458e-91fa-bf1a39e3acc6",
   "metadata": {},
   "source": [
    "We have run simplex counts for both the full (original and 5 ER\n",
    "controls) adjacency matrices, and their slices by layer. We can load the\n",
    "results for the `full-flatcolumns` as a dataframe,"
   ]
  },
  {
   "cell_type": "code",
   "execution_count": null,
   "id": "15fca995-b7fe-4a50-ad72-aceaa4e1c3d1",
   "metadata": {},
   "outputs": [],
   "source": [
    "simplex_counts.frame[\"full\"]\n"
   ]
  },
  {
   "cell_type": "markdown",
   "id": "3c50db79-9e6c-4609-b4a4-d15b9a092e9f",
   "metadata": {},
   "source": [
    "This computation will take a while, as all the simplex counts, for both\n",
    "the full and layer will be decompressed from `connsense.h5` and loaded\n",
    "into a `pandas.DataFrame`. In about a minute you should see the result.\n",
    "Once loaded, the dataframe will stay with the object\n",
    "`simplex_counts.frame`. For layers we have an extra level in the index,"
   ]
  },
  {
   "cell_type": "code",
   "execution_count": null,
   "id": "8ecf0e94-3fd3-4ada-8ec5-7e69cfecd9a8",
   "metadata": {},
   "outputs": [],
   "source": [
    "simplex_counts.frame[\"layer\"]\n"
   ]
  },
  {
   "cell_type": "markdown",
   "id": "fdcdbb43-a393-46cd-a5d8-9f9fd04f8227",
   "metadata": {},
   "source": [
    "We find a `nan` where no simplices were found. Each individual\n",
    "computation on a single `flatcolumn` returns an array / series of\n",
    "simplex counts by dimension *upto* the maximum dimension of simplices\n",
    "found in that `flatcolumn`. When we concatenated these data into a\n",
    "single `frame`, the max-dimension was set to the maximum of maxima over\n",
    "all `flatcolumns` (and their randomizations). This filled in `nan`\n",
    "values for `flatcolumns` that did not have the higher missing\n",
    "dimensions. While we can replace the `nans` by zeros, as that is what\n",
    "they mean, they do offer a convenient way to compute the max-dimension,"
   ]
  },
  {
   "cell_type": "code",
   "execution_count": null,
   "id": "ae7e21cd-512d-4f20-8dd5-25b640f1a9c1",
   "metadata": {},
   "outputs": [],
   "source": [
    "from tqdm import tqdm; tqdm.pandas()\n",
    "\n",
    "maxdim = (simplex_counts.frame[\"full\"]\n",
    "          .apply(lambda subtarget: len(subtarget.dropna()), axis=1)\n",
    "          .rename(\"dim\"))\n",
    "\n",
    "display(maxdim)\n"
   ]
  },
  {
   "cell_type": "markdown",
   "id": "ccb81564-fd8b-4ec7-8295-cb83328be3aa",
   "metadata": {},
   "source": [
    "which we can convert to a plot,"
   ]
  },
  {
   "cell_type": "code",
   "execution_count": null,
   "id": "a39e9e0c-84b9-439d-98a3-6a77c07f5825",
   "metadata": {
    "tangle": "no"
   },
   "outputs": [],
   "source": [
    "fig_maxdim = plt.figure(figsize=(GOLDEN * 8, 8))\n",
    "_ax = sbn.violinplot(x=\"control\", y=\"dim\", data=maxdim.reset_index(),\n",
    "                     ax=fig_maxdim.add_subplot())\n",
    "fig_maxdim\n"
   ]
  },
  {
   "attachments": {
    "./figures/violins_maxdim_vs_control.png": {
     "image/png": "[encoded data removed]"
    }
   },
   "cell_type": "markdown",
   "id": "c5f049c3-30e1-41e1-8f17-c966481eb8d5",
   "metadata": {},
   "source": [
    "<img src=\"attachment:./figures/violins_maxdim_vs_control.png\"\n",
    "style=\"width:95.0%\" />\n",
    "\n",
    "What about each layer?"
   ]
  },
  {
   "cell_type": "code",
   "execution_count": null,
   "id": "ca7f5b5a-3b89-437d-8849-5a20c21be64e",
   "metadata": {},
   "outputs": [],
   "source": [
    "maxdim_by_layer = (simplex_counts.frame[\"layer\"]\n",
    "                   .apply(lambda subtarget: len(subtarget.dropna()), axis=1)\n",
    "                   .rename(\"dim\"))\n",
    "\n",
    "display(maxdim_by_layer)\n"
   ]
  },
  {
   "cell_type": "markdown",
   "id": "1c73ccc1-f907-4e48-bce6-5b51d48767c6",
   "metadata": {},
   "source": [
    "and it looks like,"
   ]
  },
  {
   "cell_type": "code",
   "execution_count": null,
   "id": "f36ce93a-b384-48a6-89d0-c6d8ea0c96ff",
   "metadata": {
    "tangle": "no"
   },
   "outputs": [],
   "source": [
    "fig_maxdim_by_layer = plt.figure(figsize=(GOLDEN * 8, 8))\n",
    "_ax = sbn.violinplot(x=\"control\", y=\"dim\", hue=\"layer\", data=maxdim_by_layer.reset_index(),\n",
    "                     ax=fig_maxdim_by_layer.add_subplot())\n",
    "fig_maxdim_by_layer\n"
   ]
  },
  {
   "cell_type": "markdown",
   "id": "91e35361-26b2-48ab-8bc7-e9da3e7d97e8",
   "metadata": {},
   "source": [
    "## Model Params DD2\n",
    "\n",
    "Loading the results for second order distance dependent model is similar\n",
    "to simplex counts,"
   ]
  },
  {
   "cell_type": "code",
   "execution_count": null,
   "id": "6760e83a-07e4-46c6-8835-d8360fe3a871",
   "metadata": {},
   "outputs": [],
   "source": [
    "params_dd2 = cnstap.TapDataset(tap, (\"analyze-connectivity\", \"model-params-dd2\"),\n",
    "                               belazy=False)\n",
    "display(params_dd2.frame)\n"
   ]
  },
  {
   "cell_type": "markdown",
   "id": "36a3d283-a461-45bd-9edd-38a7d25b606b",
   "metadata": {},
   "source": [
    "# Scratch"
   ]
  },
  {
   "cell_type": "code",
   "execution_count": null,
   "id": "e4656aff-3e6b-421b-bcff-4e57d81ded89",
   "metadata": {
    "tangle": "no"
   },
   "outputs": [],
   "source": []
  }
 ],
 "metadata": {
  "kernelspec": {
   "display_name": "Python 3",
   "language": "python",
   "name": "python3"
  },
  "language_info": {
   "codemirror_mode": {
    "name": "ipython",
    "version": 3
   },
   "file_extension": ".py",
   "mimetype": "text/x-python",
   "name": "python",
   "nbconvert_exporter": "python",
   "pygments_lexer": "ipython3",
   "version": "3.9.16"
  },
  "toc": {
   "base_numbering": 1,
   "nav_menu": {},
   "number_sections": true,
   "sideBar": true,
   "skip_h1_title": false,
   "title_cell": "Table of Contents",
   "title_sidebar": "Contents",
   "toc_cell": false,
   "toc_position": {},
   "toc_section_display": true,
   "toc_window_display": false
  }
 },
 "nbformat": 4,
 "nbformat_minor": 5
}

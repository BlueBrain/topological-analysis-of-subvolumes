{
 "cells": [
  {
   "cell_type": "markdown",
   "id": "9abd19d4",
   "metadata": {},
   "source": [
    "# Connection matrices\n",
    "\n",
    "The connection matrices of the subtargets are all inside a hdf5 file encoded in the npz format given by scipy.sparse.\n",
    "For easy access to the data, we are going to import a read method that handles all the complicated stuff"
   ]
  },
  {
   "cell_type": "code",
   "execution_count": 1,
   "id": "cadf86bd",
   "metadata": {
    "ExecuteTime": {
     "end_time": "2021-11-01T15:23:41.132297Z",
     "start_time": "2021-11-01T15:23:39.717006Z"
    }
   },
   "outputs": [
    {
     "data": {
      "text/plain": [
       "circuit  connectome  subtarget  flat_x      flat_y   \n",
       "Bio_M    local       R10;C10    101.859472  88.212891    <write_results.read_toc_plus_payload.<locals>....\n",
       "                     R10;C11    112.045420  88.212891    <write_results.read_toc_plus_payload.<locals>....\n",
       "                     R10;C12    122.231367  88.212891    <write_results.read_toc_plus_payload.<locals>....\n",
       "                     R10;C15    152.789208  88.212891    <write_results.read_toc_plus_payload.<locals>....\n",
       "                     R10;C16    162.975156  88.212891    <write_results.read_toc_plus_payload.<locals>....\n",
       "                                                                               ...                        \n",
       "                     R9;C5      56.022710   79.391602    <write_results.read_toc_plus_payload.<locals>....\n",
       "                     R9;C6      66.208657   79.391602    <write_results.read_toc_plus_payload.<locals>....\n",
       "                     R9;C7      76.394604   79.391602    <write_results.read_toc_plus_payload.<locals>....\n",
       "                     R9;C8      86.580551   79.391602    <write_results.read_toc_plus_payload.<locals>....\n",
       "                     R9;C9      96.766499   79.391602    <write_results.read_toc_plus_payload.<locals>....\n",
       "Name: gids, Length: 133, dtype: object"
      ]
     },
     "metadata": {},
     "output_type": "display_data"
    }
   ],
   "source": [
    "import sys\n",
    "import os\n",
    "import importlib\n",
    "\n",
    "# Location of the file that has the read method. Eventually we will have to make this an installable package.\n",
    "path_base = (\"/gpfs/bbp.cscs.ch/project/proj83/scratch/home/reimann/\"\n",
    "            \"topological-analysis-of-subvolumes\")\n",
    "pck_root = os.path.join(path_base, \"scripts\")\n",
    "sys.path.insert(0, pck_root)\n",
    "from write_results import read_toc_plus_payload\n",
    "\n",
    "# Location of the data\n",
    "fn_data = os.path.join(path_base, \"results2/topological_sampling.h5\")\n",
    "# Use imported function to read data\n",
    "toc = read_toc_plus_payload((fn_data, \"con_mats/con_mats_original\"), \"analysis\")\n",
    "\n",
    "display(toc)"
   ]
  },
  {
   "cell_type": "code",
   "execution_count": 7,
   "id": "5f58e44f",
   "metadata": {
    "ExecuteTime": {
     "end_time": "2021-11-01T15:24:38.790945Z",
     "start_time": "2021-11-01T15:24:38.784546Z"
    }
   },
   "outputs": [
    {
     "name": "stdout",
     "output_type": "stream",
     "text": [
      "('Bio_M', 'local', 'R10;C10', 101.85947229667751, 88.212890625)\n",
      "('Bio_M', 'local', 'R10;C11', 112.0454195263453, 88.21289062500003)\n",
      "('Bio_M', 'local', 'R10;C12', 122.23136675601303, 88.212890625)\n",
      "('Bio_M', 'local', 'R10;C15', 152.7892084450163, 88.21289062499999)\n",
      "('Bio_M', 'local', 'R10;C16', 162.97515567468406, 88.212890625)\n"
     ]
    }
   ],
   "source": [
    "for index, _ in toc.head().iteritems():\n",
    "    print(index)"
   ]
  },
  {
   "cell_type": "markdown",
   "id": "e67083cf",
   "metadata": {},
   "source": [
    "Note that at this stage the actual matrices are not yet loaded into memory.\n",
    "The pandas.Series only has references to their location in the hdf file as values.\n",
    "They are loaded the first time you access them, and this can take a few seconds"
   ]
  },
  {
   "cell_type": "code",
   "execution_count": 3,
   "id": "23236358",
   "metadata": {
    "ExecuteTime": {
     "end_time": "2021-11-01T11:37:44.725631Z",
     "start_time": "2021-11-01T11:37:43.924484Z"
    }
   },
   "outputs": [
    {
     "name": "stdout",
     "output_type": "stream",
     "text": [
      "Mean in-degree: 241.2162986796849\n"
     ]
    }
   ],
   "source": [
    "M = toc.iloc[50].matrix\n",
    "\n",
    "print(\"Mean in-degree: {0}\".format(M.sum(axis=0).mean()))"
   ]
  },
  {
   "cell_type": "markdown",
   "id": "1772f6ac",
   "metadata": {},
   "source": [
    "As a result calculating just the in-degree will take a minute, because the matrices have to be read before the calculation.\n",
    "However, once a matrix has been accessed once, it will stay in memory and be immediatelly available."
   ]
  },
  {
   "cell_type": "code",
   "execution_count": 4,
   "id": "990d14a5",
   "metadata": {
    "ExecuteTime": {
     "end_time": "2021-11-01T11:39:48.738998Z",
     "start_time": "2021-11-01T11:39:08.388354Z"
    }
   },
   "outputs": [
    {
     "name": "stderr",
     "output_type": "stream",
     "text": [
      "100%|█████████████████████████████████████████████████████████████████████████████████████████████████████████████████████████████████████████████████████████████████████████████| 133/133 [00:40<00:00,  3.30it/s]\n"
     ]
    },
    {
     "data": {
      "text/plain": [
       "circuit  connectome  subtarget  flat_x      flat_y   \n",
       "Bio_M    local       R10;C10    101.859472  88.212891    257.746633\n",
       "                     R10;C11    112.045420  88.212891    136.172902\n",
       "                     R10;C12    122.231367  88.212891      0.571429\n",
       "                     R10;C15    152.789208  88.212891      5.938272\n",
       "                     R10;C16    162.975156  88.212891    115.084301\n",
       "                                                            ...    \n",
       "                     R9;C5      56.022710   79.391602    276.825340\n",
       "                     R9;C6      66.208657   79.391602    220.044825\n",
       "                     R9;C7      76.394604   79.391602    283.507019\n",
       "                     R9;C8      86.580551   79.391602    283.407812\n",
       "                     R9;C9      96.766499   79.391602    241.680709\n",
       "Length: 133, dtype: float64"
      ]
     },
     "metadata": {},
     "output_type": "display_data"
    }
   ],
   "source": [
    "from tqdm import tqdm\n",
    "import pandas\n",
    "\n",
    "all_in_degrees_raw = [m.matrix.sum(axis=0).mean() for m in tqdm(toc.values)]\n",
    "all_in_degrees = pandas.Series(all_in_degrees_raw, index=toc.index)\n",
    "\n",
    "display(all_in_degrees)"
   ]
  },
  {
   "cell_type": "markdown",
   "id": "62e967c7",
   "metadata": {},
   "source": [
    "Example: plot mean in-degrees"
   ]
  },
  {
   "cell_type": "code",
   "execution_count": 5,
   "id": "f8b5b374",
   "metadata": {
    "ExecuteTime": {
     "end_time": "2021-11-01T11:39:51.603047Z",
     "start_time": "2021-11-01T11:39:50.982257Z"
    }
   },
   "outputs": [
    {
     "data": {
      "image/png": "[encoded data removed]",
      "text/plain": [
       "<Figure size 432x288 with 1 Axes>"
      ]
     },
     "metadata": {
      "needs_background": "light"
     },
     "output_type": "display_data"
    }
   ],
   "source": [
    "import numpy\n",
    "from matplotlib import pyplot as plt\n",
    "\n",
    "fig = plt.figure()\n",
    "ax = fig.gca()\n",
    "\n",
    "for idx, val in all_in_degrees.items():\n",
    "    ax.plot(idx[3], idx[4], marker='o', ms=20, color=[numpy.minimum(1.0, val / 350), 0, 0])"
   ]
  },
  {
   "cell_type": "code",
   "execution_count": null,
   "id": "1b4e377a",
   "metadata": {},
   "outputs": [],
   "source": []
  }
 ],
 "metadata": {
  "kernelspec": {
   "display_name": "Python 3 (ipykernel)",
   "language": "python",
   "name": "python3"
  },
  "language_info": {
   "codemirror_mode": {
    "name": "ipython",
    "version": 3
   },
   "file_extension": ".py",
   "mimetype": "text/x-python",
   "name": "python",
   "nbconvert_exporter": "python",
   "pygments_lexer": "ipython3",
   "version": "3.8.3"
  },
  "varInspector": {
   "cols": {
    "lenName": 16,
    "lenType": 16,
    "lenVar": 40
   },
   "kernels_config": {
    "python": {
     "delete_cmd_postfix": "",
     "delete_cmd_prefix": "del ",
     "library": "var_list.py",
     "varRefreshCmd": "print(var_dic_list())"
    },
    "r": {
     "delete_cmd_postfix": ") ",
     "delete_cmd_prefix": "rm(",
     "library": "var_list.r",
     "varRefreshCmd": "cat(var_dic_list()) "
    }
   },
   "types_to_exclude": [
    "module",
    "function",
    "builtin_function_or_method",
    "instance",
    "_Feature"
   ],
   "window_display": false
  }
 },
 "nbformat": 4,
 "nbformat_minor": 5
}

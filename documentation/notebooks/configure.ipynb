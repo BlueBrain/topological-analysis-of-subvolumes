{
 "cells": [
  {
   "cell_type": "markdown",
   "id": "504ce73e",
   "metadata": {},
   "source": [
    "# Configuring a topological analysis of circuit subvolumes.\n",
    "\n",
    "Here we describe how a scientist can configure a complete analysis of subtargets\n",
    "in the circuit's flatmap.\n",
    "\n",
    "Each individual step in a topological analysis is specified in a master configuration.\n",
    "Here we describe the various sections in such a configuration.\n",
    "\n",
    "We have implemented config loaders. So let use them to load our current working\n",
    "configuration."
   ]
  },
  {
   "cell_type": "code",
   "execution_count": 1,
   "id": "34260337",
   "metadata": {
    "ExecuteTime": {
     "end_time": "2021-11-12T10:48:33.166191Z",
     "start_time": "2021-11-12T10:48:32.827660Z"
    }
   },
   "outputs": [
    {
     "name": "stderr",
     "output_type": "stream",
     "text": [
      " 2021-11-12 11:48:32,949: Note: detected 80 virtual cores but NumExpr set to maximum of 64, check \"NUMEXPR_MAX_THREADS\" environment variable.\n",
      " 2021-11-12 11:48:32,950: Note: NumExpr detected 80 cores but \"NUMEXPR_MAX_THREADS\" not set, so enforcing safe limit of 8.\n",
      " 2021-11-12 11:48:32,950: NumExpr defaulting to 8 threads.\n"
     ]
    }
   ],
   "source": [
    "from importlib import reload\n",
    "from pathlib import Path\n",
    "from connsense.io import logging, read_config, write_results\n",
    "\n",
    "LOG = logging.get_logger(\"TopoAnalysis Configurations\", \"INFO\")\n"
   ]
  },
  {
   "cell_type": "code",
   "execution_count": 2,
   "id": "153c0e51",
   "metadata": {
    "ExecuteTime": {
     "end_time": "2021-11-12T10:48:33.580368Z",
     "start_time": "2021-11-12T10:48:33.572996Z"
    }
   },
   "outputs": [
    {
     "name": "stderr",
     "output_type": "stream",
     "text": [
      " 2021-11-12 11:48:33,576: Load a configuration from /gpfs/bbp.cscs.ch/project/proj83/home/sood/analyses/manuscript/topological-analysis-subvolumes/notebooks/results\n"
     ]
    }
   ],
   "source": [
    "reload(read_config); reload(write_results)\n",
    "proj83 = Path(\"/gpfs/bbp.cscs.ch/project/proj83\")\n",
    "path_results = (proj83 \n",
    "                /\"home/sood/analyses/manuscript/topological-analysis-subvolumes\"\n",
    "                /\"notebooks\" / \"results\")\n",
    "\n",
    "raw_config = read_config.read(path_results / \"develop-config.json\", raw=True)\n",
    "LOG.info(\"Load a configuration from %s\", path_results)\n",
    "\n",
    "config = read_config.read(path_results / \"develop-config.json\")"
   ]
  },
  {
   "cell_type": "markdown",
   "id": "92dc80f4",
   "metadata": {},
   "source": [
    "The configuration we have loaded above is the raw dict specified as JSON.\n",
    "Internally, the *paths* provided in the configuration are parsed to resolve\n",
    "the absolute path that can be specified in the JSON.\n",
    "\n",
    "In the JSON, we have"
   ]
  },
  {
   "cell_type": "code",
   "execution_count": 4,
   "id": "5205b1f2",
   "metadata": {
    "ExecuteTime": {
     "end_time": "2021-11-07T16:39:08.527734Z",
     "start_time": "2021-11-07T16:39:08.518791Z"
    }
   },
   "outputs": [
    {
     "name": "stderr",
     "output_type": "stream",
     "text": [
      "2021-11-07 17:39:08 INFO     Sections defined in the configuration:\n",
      "2021-11-07 17:39:08 INFO     \tpaths: <class 'dict'>\n",
      "2021-11-07 17:39:08 INFO     \tparameters: <class 'dict'>\n"
     ]
    }
   ],
   "source": [
    "LOG.info(\"Sections defined in the configuration:\")\n",
    "for label, section in raw_config.items():\n",
    "    LOG.info(\"\\t%s: %s\", label, type(section))"
   ]
  },
  {
   "cell_type": "markdown",
   "id": "7e87313e",
   "metadata": {},
   "source": [
    "Currently we have only two sections that we discuss next."
   ]
  },
  {
   "cell_type": "markdown",
   "id": "41870db1",
   "metadata": {},
   "source": [
    "## Paths\n",
    "To run an analysis, we need the paths to the inputs, and paths where the results of the\n",
    "anlysis must be saved.\n",
    "Input / output paths are provided in the configuration in the *paths* section.\n"
   ]
  },
  {
   "cell_type": "markdown",
   "id": "0dc7c573",
   "metadata": {},
   "source": [
    "### Input paths\n",
    "\n",
    "\n",
    "As inputs, a topological analysis requires the circuit and it's flatmap.\n",
    "Inputs to the pipeline must not be be confused with *input-parameters* for\n",
    "each of its individual steps, which the config specifies in a separated section.\n",
    "\n",
    "Input paths are specified in the JSON as separated entries for `circuit`, and `flatmap`\n",
    "in the section for `paths`\n",
    "In our working config, the paths are specified for the input circuits as follows:"
   ]
  },
  {
   "cell_type": "code",
   "execution_count": 5,
   "id": "81cc4751",
   "metadata": {
    "ExecuteTime": {
     "end_time": "2021-11-07T16:39:12.631975Z",
     "start_time": "2021-11-07T16:39:12.625129Z"
    }
   },
   "outputs": [
    {
     "name": "stderr",
     "output_type": "stream",
     "text": [
      "2021-11-07 17:39:12 INFO     root: /gpfs/bbp.cscs.ch/project/proj83/circuits\n",
      "2021-11-07 17:39:12 INFO     files: {'Bio_M': '20200805/CircuitConfig_TC_WM'}\n"
     ]
    }
   ],
   "source": [
    "for label, specified in raw_config[\"paths\"][\"circuit\"].items():\n",
    "    LOG.info(\"%s: %s\", label, specified)"
   ]
  },
  {
   "cell_type": "markdown",
   "id": "0744b2cf",
   "metadata": {},
   "source": [
    "The dict format providing a separate entry for `root` allows the loading of \n",
    "several circuits specified in the mapping `files` that are stored under `root`.\n",
    "This feature will be useful in the analysis of more than on SSCx variants,\n",
    "If no `root` is provided, the paths specified in `files` will be assumed to be\n",
    "absolute paths to `bluepy.Circuit`'s `CircuitConfig`s.\n",
    "\n",
    "The paths specified in the config are parsed to be absolute paths when loaded:"
   ]
  },
  {
   "cell_type": "code",
   "execution_count": 6,
   "id": "9b4d3785",
   "metadata": {
    "ExecuteTime": {
     "end_time": "2021-11-07T16:39:14.649720Z",
     "start_time": "2021-11-07T16:39:14.644356Z"
    }
   },
   "outputs": [
    {
     "name": "stderr",
     "output_type": "stream",
     "text": [
      "2021-11-07 17:39:14 INFO     input paths {'Bio_M': '/gpfs/bbp.cscs.ch/project/proj83/circuits/20200805/CircuitConfig_TC_WM'}\n"
     ]
    }
   ],
   "source": [
    "LOG.info(\"input paths %s\", config[\"paths\"][\"circuit\"])"
   ]
  },
  {
   "cell_type": "markdown",
   "id": "610af238",
   "metadata": {},
   "source": [
    "A similar entry allows for specifying a single flatmap for all analyzed circuits,\n",
    "or one for each individual one. \n",
    "Entry for `flatmap` may be omitted if the analyzed circuits already have a flatmap\n",
    "entered in their `atlas`.\n",
    "\n",
    "### Paths for pipeline steps\n",
    "\n",
    "Circuit, and flatmap inputs can be used to run the first step of the pipeline,\n",
    "*i.e* `default-subtargets`. The output of `default-subtargets` is piped to\n",
    "the next step `extract-neurons`, and so on...\n",
    "Thus the pipeline will require a location to store the results for each path.\n",
    "We have decided to use a single HDF root archive for all the results.\n",
    "Thus pipeline steps' paths must be configured by specifying a `root` and `keys`\n",
    "in a JSON hash:"
   ]
  },
  {
   "cell_type": "code",
   "execution_count": 7,
   "id": "b3a9854c",
   "metadata": {
    "ExecuteTime": {
     "end_time": "2021-11-07T16:39:16.586999Z",
     "start_time": "2021-11-07T16:39:16.574819Z"
    }
   },
   "outputs": [
    {
     "name": "stderr",
     "output_type": "stream",
     "text": [
      "2021-11-07 17:39:16 INFO     Analysis data will be saved at \n",
      "\t: /gpfs/bbp.cscs.ch/project/proj83/home/sood/analyses/manuscript/define_subtargets/notebooks/results/topological_sampling.h5\n",
      "\n",
      "2021-11-07 17:39:16 INFO     Analysis step HDF5 groups: \n",
      "\n",
      "2021-11-07 17:39:16 INFO     define-subtargets: subtargets\n",
      "2021-11-07 17:39:16 INFO     extract-neurons: neurons\n",
      "2021-11-07 17:39:16 INFO     evaulate-subtargets: subtarget_quality\n",
      "2021-11-07 17:39:16 INFO     extract-connectivity: con_mats/original\n",
      "2021-11-07 17:39:16 INFO     randomize-matrices: con_mats/randomized\n",
      "2021-11-07 17:39:16 INFO     analyze-connecttivity: analysis\n"
     ]
    }
   ],
   "source": [
    "LOG.info(\"Analysis data will be saved at \\n\\t: %s\\n\",\n",
    "         raw_config[\"paths\"][\"steps\"][\"root\"])\n",
    "\n",
    "LOG.info(\"Analysis step HDF5 groups: \\n\")\n",
    "for step, group in raw_config[\"paths\"][\"steps\"][\"groups\"].items():\n",
    "    LOG.info(\"%s: %s\", step, group)"
   ]
  },
  {
   "cell_type": "markdown",
   "id": "a8898393",
   "metadata": {},
   "source": [
    "Not all steps need to be specified, and the code will complain if a required step's path are missing. Note that the config must provide paths for steps not only to be run, but also paths to the steps whose output is required as input to the step run. In the future we will auto-run all the required steps whose input is required and not already available in the archive.\n",
    "\n",
    "\n",
    "The group con_mats/con_mats_original indicates that all connection matrices will be stored under one group, A family of connection matrices will be stored under subgroups of con_mats, with the original connection matrices extracted in this step finding a home under the subgroup con_mats_original. Another group you can read in the config as one specified for storing randomized connection matrices as con_mats/randomized.\n",
    "\n",
    "TODO Should con_mats/randomized be con_mats/con_mats_randomized? or con_mats/con_mats_original be renamed to con_mats/original?\n",
    "\n",
    "To run extraction of connections, we will need the output of define-subtargets:"
   ]
  },
  {
   "cell_type": "markdown",
   "id": "1ff1e03c",
   "metadata": {},
   "source": [
    "## Parameters\n",
    "\n",
    "**TODO** Describe the *parameters* section of the config."
   ]
  },
  {
   "cell_type": "code",
   "execution_count": null,
   "id": "e780fc32",
   "metadata": {},
   "outputs": [],
   "source": [
    "\n"
   ]
  }
 ],
 "metadata": {
  "kernelspec": {
   "display_name": "Python 3",
   "language": "python",
   "name": "python3"
  },
  "language_info": {
   "codemirror_mode": {
    "name": "ipython",
    "version": 3
   },
   "file_extension": ".py",
   "mimetype": "text/x-python",
   "name": "python",
   "nbconvert_exporter": "python",
   "pygments_lexer": "ipython3",
   "version": "3.9.14"
  },
  "toc": {
   "base_numbering": 1,
   "nav_menu": {},
   "number_sections": true,
   "sideBar": true,
   "skip_h1_title": false,
   "title_cell": "Table of Contents",
   "title_sidebar": "Contents",
   "toc_cell": false,
   "toc_position": {},
   "toc_section_display": true,
   "toc_window_display": false
  },
  "varInspector": {
   "cols": {
    "lenName": 16,
    "lenType": 16,
    "lenVar": 40
   },
   "kernels_config": {
    "python": {
     "delete_cmd_postfix": "",
     "delete_cmd_prefix": "del ",
     "library": "var_list.py",
     "varRefreshCmd": "print(var_dic_list())"
    },
    "r": {
     "delete_cmd_postfix": ") ",
     "delete_cmd_prefix": "rm(",
     "library": "var_list.r",
     "varRefreshCmd": "cat(var_dic_list()) "
    }
   },
   "types_to_exclude": [
    "module",
    "function",
    "builtin_function_or_method",
    "instance",
    "_Feature"
   ],
   "window_display": false
  }
 },
 "nbformat": 4,
 "nbformat_minor": 5
}

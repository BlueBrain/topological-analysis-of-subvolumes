{
 "cells": [
  {
   "cell_type": "markdown",
   "id": "0f77ffec",
   "metadata": {},
   "source": [
    "# Topological Analysis of Circuit Subvolumes\n",
    "\n",
    "Here we discuss the pipeline that we use to run a topological analysis.\n",
    "\n",
    "To interact with the application all you need to do is provide a configuration,\n",
    "that we discuss in a separate notebook.\n",
    "Here we discuss how this configuration can be used to launch a pipeline."
   ]
  },
  {
   "cell_type": "code",
   "execution_count": 4,
   "id": "595ecd39",
   "metadata": {
    "ExecuteTime": {
     "end_time": "2021-11-11T12:30:03.739167Z",
     "start_time": "2021-11-11T12:30:01.925069Z"
    }
   },
   "outputs": [],
   "source": [
    "from importlib import reload\n",
    "from pathlib import Path\n",
    "import pandas as pd\n",
    "import numpy as np\n",
    "from matplotlib import pyplot as plt\n",
    "import seaborn as sbn\n",
    "from connsense import pipeline\n",
    "from connsense.io import logging\n",
    "\n",
    "LOG = logging.get_logger(\"Toological analysis tutorial\")\n",
    "proj83 = Path(\"/gpfs/bbp.cscs.ch/project/proj83\")\n",
    "path_results = (proj83 \n",
    "                /\"home/sood/analyses/manuscript/topological-analysis-subvolumes\"\n",
    "                /\"notebooks\" / \"results\")"
   ]
  },
  {
   "cell_type": "markdown",
   "id": "e9973f59",
   "metadata": {},
   "source": [
    "We have implemented a *class* to handle the running of the pipeline that\n",
    "can be defined using path to a configuration."
   ]
  },
  {
   "cell_type": "code",
   "execution_count": 6,
   "id": "52300f1f",
   "metadata": {
    "ExecuteTime": {
     "end_time": "2021-11-11T12:31:04.095776Z",
     "start_time": "2021-11-11T12:31:04.090336Z"
    }
   },
   "outputs": [],
   "source": [
    "from connsense import pipeline\n",
    "from connsense.io import read_config\n",
    "path_config = path_results/\"develop-config.json\"\n",
    "config = read_config.read(path_config)\n",
    "topaz = pipeline.TopologicalAnalysis(path_config)"
   ]
  },
  {
   "cell_type": "markdown",
   "id": "e3c3fb3a",
   "metadata": {},
   "source": [
    "The pipeline has a state that is used to run the steps."
   ]
  },
  {
   "cell_type": "code",
   "execution_count": 4,
   "id": "b14e0f5e",
   "metadata": {
    "ExecuteTime": {
     "end_time": "2021-11-10T19:52:34.763722Z",
     "start_time": "2021-11-10T19:52:34.752918Z"
    }
   },
   "outputs": [
    {
     "name": "stderr",
     "output_type": "stream",
     "text": [
      " 2021-11-10 20:52:34,753: Initialized a topological analysis pipeline to run:\n",
      " 2021-11-10 20:52:34,756: \t0. define-subtargets\n",
      " 2021-11-10 20:52:34,757: \t1. extract-neurons\n",
      " 2021-11-10 20:52:34,758: \t2. extract-connectivity\n",
      " 2021-11-10 20:52:34,759: \t3. randomize-connectivity\n",
      " 2021-11-10 20:52:34,760: \t4. analyze-connectivity\n"
     ]
    }
   ],
   "source": [
    "LOG.info(\"Initialized a topological analysis pipeline to run:\")\n",
    "for i, step in enumerate(topaz.state.queue):\n",
    "    LOG.info(\"\\t%s. %s\", i, step)"
   ]
  },
  {
   "cell_type": "code",
   "execution_count": 5,
   "id": "5dc0fcbe",
   "metadata": {
    "ExecuteTime": {
     "end_time": "2021-11-10T19:52:35.740624Z",
     "start_time": "2021-11-10T19:52:35.700847Z"
    }
   },
   "outputs": [
    {
     "name": "stderr",
     "output_type": "stream",
     "text": [
      " 2021-11-10 20:52:35,702: Dispatch from 5 queue: ['define-subtargets', 'extract-neurons', 'extract-connectivity', 'randomize-connectivity', 'analyze-connectivity']\n",
      " 2021-11-10 20:52:35,702: Dispatch pipeline step define-subtargets\n",
      " 2021-11-10 20:52:35,705: Get subtargets for config {'paths': {'circuit': {'Bio_M': '/gpfs/bbp.cscs.ch/project/proj83/circuits/Bio_M/20200805/CircuitConfig_TC_WM'}, 'flatmap': {}, 'define-subtargets': ('/gpfs/bbp.cscs.ch/project/proj83/home/sood/analyses/manuscript/define_subtargets/notebooks/results/topological_sampling.h5', 'subtargets'), 'extract-neurons': ('/gpfs/bbp.cscs.ch/project/proj83/home/sood/analyses/manuscript/define_subtargets/notebooks/results/topological_sampling.h5', 'neurons'), 'evaulate-subtargets': ('/gpfs/bbp.cscs.ch/project/proj83/home/sood/analyses/manuscript/define_subtargets/notebooks/results/topological_sampling.h5', 'subtarget_quality'), 'extract-connectivity': ('/gpfs/bbp.cscs.ch/project/proj83/home/sood/analyses/manuscript/define_subtargets/notebooks/results/topological_sampling.h5', 'con_mats/original'), 'randomize-connectivity': ('/gpfs/bbp.cscs.ch/project/proj83/home/sood/analyses/manuscript/define_subtargets/notebooks/results/topological_sampling.h5', 'con_mats/randomized'), 'analyze': ('/gpfs/bbp.cscs.ch/project/proj83/home/sood/analyses/manuscript/define_subtargets/notebooks/results/topological_sampling.h5', 'analysis')}, 'parameters': {'define-subtargets': {'radius': 230.0, 'base_target': 'Mosaic', 'format': 'wide'}, 'extract-neurons': {'properties': ['x', 'y', 'z', 'synapse_class', 'layer', 'mtype']}, 'evaluate-subtargerts': {'metrics': ['orthogonality', 'neuron_counts', 'target_composition']}, 'extract-connectivity': {'connectomes': [['local']]}, 'randomize-connectivity': {'algorithms': {'erin': {'source': 'ERIN', 'args': [], 'kwargs': {}, 'name': 'Erodos-Renyi-controlling-in-degree'}, 'erout': {'source': 'EROUT', 'args': [], 'kwargs': {}, 'name': 'Erodos-Renyi-controlling-out-degree'}}}}}\n",
      " 2021-11-10 20:52:35,706: Output in /gpfs/bbp.cscs.ch/project/proj83/scratch/manuscript/topological-analysis/results/topological-sampling.h5\n",
      "\t, group subtargets\n",
      " 2021-11-10 20:52:35,707: DISPATCH the definition of subtargets.\n",
      " 2021-11-10 20:52:35,709: TEST pipeline plumbing.\n",
      " 2021-11-10 20:52:35,710: Write result to /gpfs/bbp.cscs.ch/project/proj83/scratch/manuscript/topological-analysis/results/topological-sampling.h5\n",
      " 2021-11-10 20:52:35,711: TEST pipeline plumbing.\n",
      " 2021-11-10 20:52:35,712: DONE, defining subtargets.\n",
      " 2021-11-10 20:52:35,712: DONE pipeline step define-subtargets: result saved at /gpfs/bbp.cscs.ch/project/proj83/scratch/manuscript/topological-analysis/results/topological-sampling.h5\n",
      " 2021-11-10 20:52:35,713: Dispatch pipeline step extract-neurons\n",
      " 2021-11-10 20:52:35,714: Extract neurons for subtargets.\n",
      " 2021-11-10 20:52:35,715: READ targets from path ('/gpfs/bbp.cscs.ch/project/proj83/home/sood/analyses/manuscript/define_subtargets/notebooks/results/topological_sampling.h5', 'subtargets')\n",
      " 2021-11-10 20:52:35,715: TEST pipeline plumbing.\n",
      " 2021-11-10 20:52:35,716: Cell properties to extract: ['x', 'y', 'z', 'synapse_class', 'layer', 'mtype']\n",
      " 2021-11-10 20:52:35,717: TEST pipeline plumbing.\n",
      " 2021-11-10 20:52:35,717: WRITE neuron properties to archive /gpfs/bbp.cscs.ch/project/proj83/home/sood/analyses/manuscript/define_subtargets/notebooks/results/topological_sampling.h5\n",
      "\t under group neurons\n",
      " 2021-11-10 20:52:35,718: TEST pipeline plumbing.\n",
      " 2021-11-10 20:52:35,719: DONE dry-run testing the pipeline's plumbing\n",
      " 2021-11-10 20:52:35,720: DONE pipeline step extract-neurons: Saved output ('/gpfs/bbp.cscs.ch/project/proj83/home/sood/analyses/manuscript/define_subtargets/notebooks/results/topological_sampling.h5', 'neurons')\n",
      " 2021-11-10 20:52:35,720: Dispatch pipeline step extract-connectivity\n",
      " 2021-11-10 20:52:35,721: Read targets from path ('/gpfs/bbp.cscs.ch/project/proj83/home/sood/analyses/manuscript/define_subtargets/notebooks/results/topological_sampling.h5', 'subtargets')\n",
      " 2021-11-10 20:52:35,722: TEST pipeline plumbing\n",
      " 2021-11-10 20:52:35,723: Extract connevtivity from connectomes: []\n",
      " 2021-11-10 20:52:35,723: TEST pipeline plumbing.\n",
      " 2021-11-10 20:52:35,724: Write extracted matrices to /gpfs/bbp.cscs.ch/project/proj83/home/sood/analyses/manuscript/define_subtargets/notebooks/results/topological_sampling.h5\n",
      "\t group con_mats/original\n",
      " 2021-11-10 20:52:35,725: TEST pipeline plumbing.\n",
      " 2021-11-10 20:52:35,725: DONE, extraction of matrices\n",
      " 2021-11-10 20:52:35,726: DONE pipeline step extract-connectivity: Output saved at ('/gpfs/bbp.cscs.ch/project/proj83/home/sood/analyses/manuscript/define_subtargets/notebooks/results/topological_sampling.h5', 'con_mats/original')\n",
      " 2021-11-10 20:52:35,727: Dispatch pipeline step randomize-connectivity\n",
      " 2021-11-10 20:52:35,728: Load extracted neuron properties from /gpfs/bbp.cscs.ch/project/proj83/home/sood/analyses/manuscript/define_subtargets/notebooks/results/topological_sampling.h5\n",
      "\t, group neurons\n",
      " 2021-11-10 20:52:35,729: TEST pipeline plumbing\n",
      " 2021-11-10 20:52:35,729: Load extracted connectivity from /gpfs/bbp.cscs.ch/project/proj83/home/sood/analyses/manuscript/define_subtargets/notebooks/results/topological_sampling.h5\n",
      "\t, group con_mats/original\n",
      " 2021-11-10 20:52:35,730: TEST pipeline plumbing\n",
      " 2021-11-10 20:52:35,731: DISPATCH randomization of connecivity matrices.\n",
      " 2021-11-10 20:52:35,731: TEST pipeline plumbing.\n",
      " 2021-11-10 20:52:35,732: Write randomized matrices to path (PosixPath('/gpfs/bbp.cscs.ch/project/proj83/scratch/manuscript/topological-analysis/results/topological-sampling.h5'), 'con_mats/randomized').\n",
      " 2021-11-10 20:52:35,733: TEST pipeline plumbing\n",
      " 2021-11-10 20:52:35,734: DONE randomizing: {'paths': {'circuit': {'Bio_M': '/gpfs/bbp.cscs.ch/project/proj83/circuits/Bio_M/20200805/CircuitConfig_TC_WM'}, 'flatmap': {}, 'define-subtargets': ('/gpfs/bbp.cscs.ch/project/proj83/home/sood/analyses/manuscript/define_subtargets/notebooks/results/topological_sampling.h5', 'subtargets'), 'extract-neurons': ('/gpfs/bbp.cscs.ch/project/proj83/home/sood/analyses/manuscript/define_subtargets/notebooks/results/topological_sampling.h5', 'neurons'), 'evaulate-subtargets': ('/gpfs/bbp.cscs.ch/project/proj83/home/sood/analyses/manuscript/define_subtargets/notebooks/results/topological_sampling.h5', 'subtarget_quality'), 'extract-connectivity': ('/gpfs/bbp.cscs.ch/project/proj83/home/sood/analyses/manuscript/define_subtargets/notebooks/results/topological_sampling.h5', 'con_mats/original'), 'randomize-connectivity': ('/gpfs/bbp.cscs.ch/project/proj83/home/sood/analyses/manuscript/define_subtargets/notebooks/results/topological_sampling.h5', 'con_mats/randomized'), 'analyze': ('/gpfs/bbp.cscs.ch/project/proj83/home/sood/analyses/manuscript/define_subtargets/notebooks/results/topological_sampling.h5', 'analysis')}, 'parameters': {'define-subtargets': {'radius': 230.0, 'base_target': 'Mosaic', 'format': 'wide'}, 'extract-neurons': {'properties': ['x', 'y', 'z', 'synapse_class', 'layer', 'mtype']}, 'evaluate-subtargerts': {'metrics': ['orthogonality', 'neuron_counts', 'target_composition']}, 'extract-connectivity': {'connectomes': [['local']]}, 'randomize-connectivity': {'algorithms': {'erin': {'source': 'ERIN', 'args': [], 'kwargs': {}, 'name': 'Erodos-Renyi-controlling-in-degree'}, 'erout': {'source': 'EROUT', 'args': [], 'kwargs': {}, 'name': 'Erodos-Renyi-controlling-out-degree'}}}}}\n",
      " 2021-11-10 20:52:35,734: DONE pipeline step randomize-connectivity: Result saved (PosixPath('/gpfs/bbp.cscs.ch/project/proj83/scratch/manuscript/topological-analysis/results/topological-sampling.h5'), 'con_mats/randomized')\n",
      " 2021-11-10 20:52:35,735: DONE running 4 steps: \n",
      " 2021-11-10 20:52:35,736: \t(0). define-subtargets: result saved at /gpfs/bbp.cscs.ch/project/proj83/scratch/manuscript/topological-analysis/results/topological-sampling.h5\n",
      " 2021-11-10 20:52:35,737: \t(1). extract-neurons: Saved output ('/gpfs/bbp.cscs.ch/project/proj83/home/sood/analyses/manuscript/define_subtargets/notebooks/results/topological_sampling.h5', 'neurons')\n",
      " 2021-11-10 20:52:35,738: \t(2). extract-connectivity: Output saved at ('/gpfs/bbp.cscs.ch/project/proj83/home/sood/analyses/manuscript/define_subtargets/notebooks/results/topological_sampling.h5', 'con_mats/original')\n"
     ]
    },
    {
     "name": "stderr",
     "output_type": "stream",
     "text": [
      " 2021-11-10 20:52:35,738: \t(3). randomize-connectivity: Result saved (PosixPath('/gpfs/bbp.cscs.ch/project/proj83/scratch/manuscript/topological-analysis/results/topological-sampling.h5'), 'con_mats/randomized')\n"
     ]
    }
   ],
   "source": [
    "working_dir = proj83 / \"scratch\" / \"manuscript\" / \"topological-analysis\"\n",
    "output = working_dir / \"results\" / \"topological-sampling.h5\"\n",
    "\n",
    "q = topaz.run(steps=[\"define-subtargets\", \"extract-neurons\", \n",
    "                     \"extract-connectivity\", \"randomize-connectivity\"],\n",
    "              output=output, dry_run=True)"
   ]
  },
  {
   "cell_type": "markdown",
   "id": "fcbae751",
   "metadata": {},
   "source": [
    "## Analysis layer."
   ]
  },
  {
   "cell_type": "code",
   "execution_count": 8,
   "id": "ead0344c",
   "metadata": {
    "ExecuteTime": {
     "end_time": "2021-11-11T12:31:22.097001Z",
     "start_time": "2021-11-11T12:31:22.091129Z"
    }
   },
   "outputs": [
    {
     "data": {
      "text/plain": [
       "('/gpfs/bbp.cscs.ch/project/proj83/home/sood/analyses/manuscript/topological-analysis-subvolumes/notebooks/results/topological_sampling.h5',\n",
       " 'analysis')"
      ]
     },
     "execution_count": 8,
     "metadata": {},
     "output_type": "execute_result"
    }
   ],
   "source": [
    "config[\"paths\"][\"analyze-connectivity\"]"
   ]
  },
  {
   "cell_type": "code",
   "execution_count": 17,
   "id": "be755a99",
   "metadata": {
    "ExecuteTime": {
     "end_time": "2021-11-11T12:42:27.035930Z",
     "start_time": "2021-11-11T12:42:26.991853Z"
    }
   },
   "outputs": [
    {
     "name": "stderr",
     "output_type": "stream",
     "text": [
      " 2021-11-11 13:42:26,993: load connectivity from ('/gpfs/bbp.cscs.ch/project/proj83/home/sood/analyses/manuscript/topological-analysis-subvolumes/notebooks/results/topological_sampling.h5', 'con_mats/original')\n",
      " 2021-11-11 13:42:27,028: Total subtargets: 247\n"
     ]
    },
    {
     "data": {
      "text/plain": [
       "algorithm  circuit  connectome  subtarget  flat_x       flat_y\n",
       "original   Bio_M    local       R0;C10     3983.716857  0.0       <connsense.io.write_results.LazyMatrix object ...\n",
       "                                R0;C11     4382.088543  0.0       <connsense.io.write_results.LazyMatrix object ...\n",
       "                                R0;C12     4780.460229  0.0       <connsense.io.write_results.LazyMatrix object ...\n",
       "                                R0;C2      796.743371   0.0       <connsense.io.write_results.LazyMatrix object ...\n",
       "                                R0;C3      1195.115057  0.0       <connsense.io.write_results.LazyMatrix object ...\n",
       "Name: gids, dtype: object"
      ]
     },
     "execution_count": 17,
     "metadata": {},
     "output_type": "execute_result"
    }
   ],
   "source": [
    "from connsense.io.write_results import read_toc_plus_payload\n",
    "path_extract_connectivity = config[\"paths\"][\"extract-connectivity\"]\n",
    "LOG.info(\"load connectivity from %s\", path_extract_connectivity)\n",
    "original = read_toc_plus_payload(path_extract_connectivity, \"extract-connectivity\")\n",
    "toc_orig = pd.concat([original], keys=[\"original\"], names=[\"algorithm\"])\n",
    "\n",
    "LOG.info(\"Total subtargets: %s\", toc_original.shape[0])\n",
    "\n",
    "toc_orig.head()"
   ]
  },
  {
   "cell_type": "code",
   "execution_count": 13,
   "id": "cc15cf03",
   "metadata": {
    "ExecuteTime": {
     "end_time": "2021-11-11T12:39:24.492780Z",
     "start_time": "2021-11-11T12:39:24.366344Z"
    }
   },
   "outputs": [
    {
     "name": "stderr",
     "output_type": "stream",
     "text": [
      " 2021-11-11 13:39:24,367: load connectivity from ('/gpfs/bbp.cscs.ch/project/proj83/home/sood/analyses/manuscript/topological-analysis-subvolumes/notebooks/results/topological_sampling.h5', 'con_mats/randomized')\n",
      " 2021-11-11 13:39:24,490: Total subtargets: 494\n"
     ]
    }
   ],
   "source": [
    "path_randomized_connectivity = config[\"paths\"][\"randomize-connectivity\"]\n",
    "LOG.info(\"load connectivity from %s\", path_randomized_connectivity)\n",
    "toc_randomized = read_toc_plus_payload(path_randomized_connectivity,\n",
    "                                       \"randomize-0jconnectivity\")\n",
    "LOG.info(\"Total subtargets: %s\", toc_randomized.shape[0])\n"
   ]
  },
  {
   "cell_type": "code",
   "execution_count": 19,
   "id": "394b1800",
   "metadata": {
    "ExecuteTime": {
     "end_time": "2021-11-11T12:43:06.680905Z",
     "start_time": "2021-11-11T12:43:06.667905Z"
    }
   },
   "outputs": [
    {
     "name": "stderr",
     "output_type": "stream",
     "text": [
      "/gpfs/bbp.cscs.ch/ssd/slurmTmpFS/sood/4729/ipykernel_240966/3876114226.py:2: DeprecationWarning: `np.float` is a deprecated alias for the builtin `float`. To silence this warning, use `float` by itself. Doing this will not modify any behavior and is safe. If you specifically wanted the numpy scalar type, use `np.float64` here.\n",
      "Deprecated in NumPy 1.20; for more details and guidance: https://numpy.org/devdocs/release/1.20.0-notes.html#deprecations\n",
      "  S = np.float(sample)\n"
     ]
    },
    {
     "data": {
      "text/html": [
       "<div>\n",
       "<style scoped>\n",
       "    .dataframe tbody tr th:only-of-type {\n",
       "        vertical-align: middle;\n",
       "    }\n",
       "\n",
       "    .dataframe tbody tr th {\n",
       "        vertical-align: top;\n",
       "    }\n",
       "\n",
       "    .dataframe thead th {\n",
       "        text-align: right;\n",
       "    }\n",
       "</style>\n",
       "<table border=\"1\" class=\"dataframe\">\n",
       "  <thead>\n",
       "    <tr style=\"text-align: right;\">\n",
       "      <th></th>\n",
       "      <th></th>\n",
       "      <th></th>\n",
       "      <th></th>\n",
       "      <th></th>\n",
       "      <th>circuit</th>\n",
       "      <th>connectome</th>\n",
       "      <th>subtarget</th>\n",
       "      <th>flat_x</th>\n",
       "      <th>flat_y</th>\n",
       "    </tr>\n",
       "    <tr>\n",
       "      <th>circuit</th>\n",
       "      <th>connectome</th>\n",
       "      <th>subtarget</th>\n",
       "      <th>flat_x</th>\n",
       "      <th>flat_y</th>\n",
       "      <th></th>\n",
       "      <th></th>\n",
       "      <th></th>\n",
       "      <th></th>\n",
       "      <th></th>\n",
       "    </tr>\n",
       "  </thead>\n",
       "  <tbody>\n",
       "    <tr>\n",
       "      <th rowspan=\"2\" valign=\"top\">Bio_M</th>\n",
       "      <th rowspan=\"2\" valign=\"top\">local</th>\n",
       "      <th>R5;C11</th>\n",
       "      <th>4581.274386</th>\n",
       "      <th>1725.0</th>\n",
       "      <td>Bio_M</td>\n",
       "      <td>local</td>\n",
       "      <td>R5;C11</td>\n",
       "      <td>4581.274386</td>\n",
       "      <td>1725.0</td>\n",
       "    </tr>\n",
       "    <tr>\n",
       "      <th>R11;C5</th>\n",
       "      <th>2191.044272</th>\n",
       "      <th>3795.0</th>\n",
       "      <td>Bio_M</td>\n",
       "      <td>local</td>\n",
       "      <td>R11;C5</td>\n",
       "      <td>2191.044272</td>\n",
       "      <td>3795.0</td>\n",
       "    </tr>\n",
       "  </tbody>\n",
       "</table>\n",
       "</div>"
      ],
      "text/plain": [
       "                                                circuit connectome subtarget  \\\n",
       "circuit connectome subtarget flat_x      flat_y                                \n",
       "Bio_M   local      R5;C11    4581.274386 1725.0   Bio_M      local    R5;C11   \n",
       "                   R11;C5    2191.044272 3795.0   Bio_M      local    R11;C5   \n",
       "\n",
       "                                                      flat_x  flat_y  \n",
       "circuit connectome subtarget flat_x      flat_y                       \n",
       "Bio_M   local      R5;C11    4581.274386 1725.0  4581.274386  1725.0  \n",
       "                   R11;C5    2191.044272 3795.0  2191.044272  3795.0  "
      ]
     },
     "execution_count": 19,
     "metadata": {},
     "output_type": "execute_result"
    }
   ],
   "source": [
    "sample = 0.01\n",
    "S = np.float(sample)\n",
    "sample = toc_original.sample(frac=S).index\n",
    "sample.to_frame()"
   ]
  },
  {
   "cell_type": "code",
   "execution_count": 34,
   "id": "4f02e505",
   "metadata": {
    "ExecuteTime": {
     "end_time": "2021-11-11T12:49:10.338913Z",
     "start_time": "2021-11-11T12:49:10.327307Z"
    }
   },
   "outputs": [
    {
     "name": "stdout",
     "output_type": "stream",
     "text": [
      "Erodos-Renyi-controlling-in-degree\n",
      "Erodos-Renyi-controlling-out-degree\n"
     ]
    }
   ],
   "source": [
    "def get(i, g):\n",
    "    print(i)\n",
    "    g = g.droplevel(\"algorithm\")\n",
    "    return pd.concat([g.loc[sample]], keys=[i], names=[\"algorithm\"])\n",
    "    \n",
    "q = pd.concat([get(i, g) for i, g in toc_randomized.groupby(\"algorithm\")])"
   ]
  },
  {
   "cell_type": "code",
   "execution_count": 35,
   "id": "7b9b694a",
   "metadata": {
    "ExecuteTime": {
     "end_time": "2021-11-11T12:49:11.280677Z",
     "start_time": "2021-11-11T12:49:11.273134Z"
    }
   },
   "outputs": [
    {
     "data": {
      "text/plain": [
       "algorithm                            circuit  connectome  subtarget  flat_x       flat_y\n",
       "Erodos-Renyi-controlling-in-degree   Bio_M    local       R5;C11     4581.274386  1725.0    <connsense.io.write_results.LazyMatrix object ...\n",
       "                                                          R11;C5     2191.044272  3795.0    <connsense.io.write_results.LazyMatrix object ...\n",
       "Erodos-Renyi-controlling-out-degree  Bio_M    local       R5;C11     4581.274386  1725.0    <connsense.io.write_results.LazyMatrix object ...\n",
       "                                                          R11;C5     2191.044272  3795.0    <connsense.io.write_results.LazyMatrix object ...\n",
       "dtype: object"
      ]
     },
     "execution_count": 35,
     "metadata": {},
     "output_type": "execute_result"
    }
   ],
   "source": [
    "q"
   ]
  },
  {
   "cell_type": "code",
   "execution_count": null,
   "id": "8516c0c2",
   "metadata": {},
   "outputs": [],
   "source": [
    "ce"
   ]
  }
 ],
 "metadata": {
  "kernelspec": {
   "display_name": "Python 3 (ipykernel)",
   "language": "python",
   "name": "python3"
  },
  "language_info": {
   "codemirror_mode": {
    "name": "ipython",
    "version": 3
   },
   "file_extension": ".py",
   "mimetype": "text/x-python",
   "name": "python",
   "nbconvert_exporter": "python",
   "pygments_lexer": "ipython3",
   "version": "3.8.3"
  },
  "varInspector": {
   "cols": {
    "lenName": 16,
    "lenType": 16,
    "lenVar": 40
   },
   "kernels_config": {
    "python": {
     "delete_cmd_postfix": "",
     "delete_cmd_prefix": "del ",
     "library": "var_list.py",
     "varRefreshCmd": "print(var_dic_list())"
    },
    "r": {
     "delete_cmd_postfix": ") ",
     "delete_cmd_prefix": "rm(",
     "library": "var_list.r",
     "varRefreshCmd": "cat(var_dic_list()) "
    }
   },
   "types_to_exclude": [
    "module",
    "function",
    "builtin_function_or_method",
    "instance",
    "_Feature"
   ],
   "window_display": false
  }
 },
 "nbformat": 4,
 "nbformat_minor": 5
}

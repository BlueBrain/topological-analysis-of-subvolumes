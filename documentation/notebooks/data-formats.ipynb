{
 "cells": [
  {
   "cell_type": "markdown",
   "id": "0fe833dc",
   "metadata": {},
   "source": [
    "# Data formats for a topological analysis of circuit subvolumes\n",
    "\n",
    "The topological analysis pipeline archives the computed data to an HDf store using a\n",
    "schema specified in the pipeline config.\n",
    "Here we discuss the schema, and a utility that the package provides to load node-properties\n",
    "and connectivity matrices.\n",
    "\n",
    "\n",
    "Let us begin by loading the required code, and data"
   ]
  },
  {
   "cell_type": "markdown",
   "id": "886cf4eb",
   "metadata": {},
   "source": [
    "## Virtual Environment\n",
    "\n",
    "A Python virtual environment is needed to run the notebook,\n",
    "and for writing your own.\n",
    "This notebook has been run in an environment created with the posix shell command\n",
    "`source /gpfs/bbp.cscs.ch/project/proj83/home/sood/venv.sh`"
   ]
  },
  {
   "cell_type": "code",
   "execution_count": 1,
   "id": "05216ecf",
   "metadata": {
    "ExecuteTime": {
     "end_time": "2021-11-12T12:44:24.258134Z",
     "start_time": "2021-11-12T12:44:23.356073Z"
    }
   },
   "outputs": [],
   "source": [
    "from importlib import reload\n",
    "from pathlib import Path\n",
    "import pandas as pd\n",
    "import numpy as np\n",
    "from matplotlib import pyplot as plt\n",
    "import seaborn as sbn"
   ]
  },
  {
   "cell_type": "markdown",
   "id": "dfda9951",
   "metadata": {},
   "source": [
    "At of 20211112, the pipeline *sub-package* is called `connsense`, and can be\n",
    "pip installed from the repository (branch `add-subpackages`.\n",
    "\n",
    "Reading, and writing of topological analysis data uses `connsense.io`."
   ]
  },
  {
   "cell_type": "code",
   "execution_count": 3,
   "id": "4b9476c3",
   "metadata": {
    "ExecuteTime": {
     "end_time": "2021-11-12T12:44:56.395004Z",
     "start_time": "2021-11-12T12:44:56.259938Z"
    }
   },
   "outputs": [
    {
     "name": "stderr",
     "output_type": "stream",
     "text": [
      " 2021-11-12 13:44:56,392: A tutorial on interacting with topological analysis pipeline data\n"
     ]
    }
   ],
   "source": [
    "from connsense import pipeline\n",
    "from connsense.io import logging, read_config, write_results\n",
    "\n",
    "LOG = logging.get_logger(\"TopoAnalysis DataFormats\", \"INFO\")\n",
    "\n",
    "LOG.info(\"A tutorial on interacting with topological analysis pipeline data\")"
   ]
  },
  {
   "cell_type": "markdown",
   "id": "d9237b4d",
   "metadata": {},
   "source": [
    "We already have extracted connectivity data that we can use."
   ]
  },
  {
   "cell_type": "code",
   "execution_count": 4,
   "id": "74479a55",
   "metadata": {
    "ExecuteTime": {
     "end_time": "2021-11-12T12:45:03.424432Z",
     "start_time": "2021-11-12T12:45:03.413651Z"
    }
   },
   "outputs": [
    {
     "name": "stderr",
     "output_type": "stream",
     "text": [
      " 2021-11-12 13:45:03,415: Configuration and data\n",
      " 2021-11-12 13:45:03,419: \t/gpfs/bbp.cscs.ch/project/proj83/analyses/topological-analysis-subvolumes/topological_sampling.h5\n",
      " 2021-11-12 13:45:03,420: \t/gpfs/bbp.cscs.ch/project/proj83/analyses/topological-analysis-subvolumes/config.json\n",
      " 2021-11-12 13:45:03,420: \t/gpfs/bbp.cscs.ch/project/proj83/analyses/topological-analysis-subvolumes/.config.json.swp\n"
     ]
    }
   ],
   "source": [
    "proj83 = Path(\"/gpfs/bbp.cscs.ch/project/proj83\")\n",
    "path_topo_analysis = proj83 / \"analyses\" / \"topological-analysis-subvolumes\"\n",
    "LOG.info(\"Configuration and data\")\n",
    "for f in path_topo_analysis.glob('*'):\n",
    "    LOG.info(\"\\t%s\", f)\n",
    "path_config = path_topo_analysis/\"config.json\""
   ]
  },
  {
   "cell_type": "code",
   "execution_count": 21,
   "id": "bf28ff93",
   "metadata": {
    "ExecuteTime": {
     "end_time": "2021-11-12T12:53:25.656010Z",
     "start_time": "2021-11-12T12:53:25.518522Z"
    }
   },
   "outputs": [
    {
     "name": "stderr",
     "output_type": "stream",
     "text": [
      " 2021-11-12 13:53:25,645: Pipeline data HDF-store: \n",
      "\t/gpfs/bbp.cscs.ch/project/proj83/analyses/topological-analysis-subvolumes/topological_sampling.h5\n",
      " 2021-11-12 13:53:25,646: \t(0) define-subtargets: subtargets\n",
      " 2021-11-12 13:53:25,647: \t(1) extract-neurons: neurons\n",
      " 2021-11-12 13:53:25,649: \t(2) evaluate-subtargets: subtarget_quality\n",
      " 2021-11-12 13:53:25,650: \t(3) extract-connectivity: con_mats/original\n",
      " 2021-11-12 13:53:25,651: \t(4) randomize-connectivity: con_mats/randomized\n",
      " 2021-11-12 13:53:25,653: \t(5) analyze-connectivity: analysis\n"
     ]
    }
   ],
   "source": [
    "reload(pipeline)\n",
    "config = read_config.read(path_topo_analysis/\"config.json\")\n",
    "tap = pipeline.TopologicalAnalysis(path_config)\n",
    "paths = config[\"paths\"]\n",
    "LOG.info(\"Pipeline data HDF-store: \\n\\t%s\", tap._data._root)\n",
    "for i, (step, group) in enumerate(tap._data._groups.items()):\n",
    "    LOG.info(\"\\t(%s) %s: %s\", i, step, group)"
   ]
  },
  {
   "cell_type": "markdown",
   "id": "0e9d8713",
   "metadata": {},
   "source": [
    "The pipeline object we have defined above can be used to inspect all the data\n",
    "that has already been computed in the pipeline."
   ]
  },
  {
   "cell_type": "code",
   "execution_count": 22,
   "id": "58eeb2b0",
   "metadata": {
    "ExecuteTime": {
     "end_time": "2021-11-12T12:54:40.307578Z",
     "start_time": "2021-11-12T12:54:39.008056Z"
    }
   },
   "outputs": [
    {
     "name": "stderr",
     "output_type": "stream",
     "text": [
      " 2021-11-12 13:54:39,009: Circuits for which data is available: \n",
      " 2021-11-12 13:54:40,305: (0). Bio_M\n"
     ]
    }
   ],
   "source": [
    "LOG.info(\"Circuits for which data is available: \")\n",
    "\n",
    "for  i, c in enumerate(tap.data.circuits):\n",
    "    LOG.info(\"(%s). %s\", i, c)"
   ]
  },
  {
   "cell_type": "markdown",
   "id": "f23f7fc5",
   "metadata": {
    "ExecuteTime": {
     "end_time": "2021-11-12T12:52:28.704554Z",
     "start_time": "2021-11-12T12:52:28.700225Z"
    }
   },
   "source": [
    "Only one circuit is available, along with a single connectome (local).\n",
    "The subtargets are named by their column and row in the flatspace:"
   ]
  },
  {
   "cell_type": "code",
   "execution_count": 29,
   "id": "cdd91ba4",
   "metadata": {
    "ExecuteTime": {
     "end_time": "2021-11-12T12:59:27.771466Z",
     "start_time": "2021-11-12T12:59:27.762361Z"
    }
   },
   "outputs": [
    {
     "name": "stderr",
     "output_type": "stream",
     "text": [
      " 2021-11-12 13:59:27,764: Available subtargets for circuit Bio_M: 247\n",
      " 2021-11-12 13:59:27,768: \t They are named (row, column)\n",
      " 2021-11-12 13:59:27,768: \tFor example column defined from the 10th row, and 7 column: R10;C7\n"
     ]
    }
   ],
   "source": [
    "subtargets = tap.data.get_subtargets(\"Bio_M\")\n",
    "LOG.info(\"Available subtargets for circuit Bio_M: %s\", len(subtargets ))\n",
    "LOG.info(\"\\t They are named (row, column)\")\n",
    "LOG.info(\"\\tFor example column defined from the 10th row, and 7 column: R10;C7\")"
   ]
  },
  {
   "cell_type": "code",
   "execution_count": 31,
   "id": "f18fb9ee",
   "metadata": {
    "ExecuteTime": {
     "end_time": "2021-11-12T13:01:13.747994Z",
     "start_time": "2021-11-12T13:01:13.668900Z"
    }
   },
   "outputs": [
    {
     "name": "stderr",
     "output_type": "stream",
     "text": [
      "/gpfs/bbp.cscs.ch/home/sood/rsynced/work/project/proj83/topological-analysis-of-subvolumes/connsense/pipeline.py:213: FutureWarning: Passing lists as key for xs is deprecated and will be removed in a future version. Pass key as a tuple instead.\n",
      "  \n",
      " 2021-11-12 14:01:13,736: Number of nodes in subtarget R0;C10: 6719: \n"
     ]
    },
    {
     "data": {
      "text/html": [
       "<div>\n",
       "<style scoped>\n",
       "    .dataframe tbody tr th:only-of-type {\n",
       "        vertical-align: middle;\n",
       "    }\n",
       "\n",
       "    .dataframe tbody tr th {\n",
       "        vertical-align: top;\n",
       "    }\n",
       "\n",
       "    .dataframe thead th {\n",
       "        text-align: right;\n",
       "    }\n",
       "</style>\n",
       "<table border=\"1\" class=\"dataframe\">\n",
       "  <thead>\n",
       "    <tr style=\"text-align: right;\">\n",
       "      <th></th>\n",
       "      <th></th>\n",
       "      <th>gid</th>\n",
       "      <th>x</th>\n",
       "      <th>y</th>\n",
       "      <th>z</th>\n",
       "      <th>synapse_class</th>\n",
       "      <th>layer</th>\n",
       "      <th>mtype</th>\n",
       "    </tr>\n",
       "    <tr>\n",
       "      <th>circuit</th>\n",
       "      <th>subtarget</th>\n",
       "      <th></th>\n",
       "      <th></th>\n",
       "      <th></th>\n",
       "      <th></th>\n",
       "      <th></th>\n",
       "      <th></th>\n",
       "      <th></th>\n",
       "    </tr>\n",
       "  </thead>\n",
       "  <tbody>\n",
       "    <tr>\n",
       "      <th rowspan=\"5\" valign=\"top\">Bio_M</th>\n",
       "      <th>R0;C10</th>\n",
       "      <td>455</td>\n",
       "      <td>5349.881407</td>\n",
       "      <td>-2189.938376</td>\n",
       "      <td>-5461.554050</td>\n",
       "      <td>INH</td>\n",
       "      <td>1</td>\n",
       "      <td>L1_DAC</td>\n",
       "    </tr>\n",
       "    <tr>\n",
       "      <th>R0;C10</th>\n",
       "      <td>805</td>\n",
       "      <td>5435.330946</td>\n",
       "      <td>-2085.202960</td>\n",
       "      <td>-5411.225766</td>\n",
       "      <td>INH</td>\n",
       "      <td>1</td>\n",
       "      <td>L1_DAC</td>\n",
       "    </tr>\n",
       "    <tr>\n",
       "      <th>R0;C10</th>\n",
       "      <td>3930</td>\n",
       "      <td>5422.509430</td>\n",
       "      <td>-2121.012844</td>\n",
       "      <td>-5511.005647</td>\n",
       "      <td>INH</td>\n",
       "      <td>1</td>\n",
       "      <td>L1_DAC</td>\n",
       "    </tr>\n",
       "    <tr>\n",
       "      <th>R0;C10</th>\n",
       "      <td>4303</td>\n",
       "      <td>5441.431546</td>\n",
       "      <td>-1996.386178</td>\n",
       "      <td>-5491.911368</td>\n",
       "      <td>INH</td>\n",
       "      <td>1</td>\n",
       "      <td>L1_DAC</td>\n",
       "    </tr>\n",
       "    <tr>\n",
       "      <th>R0;C10</th>\n",
       "      <td>5384</td>\n",
       "      <td>5499.207748</td>\n",
       "      <td>-2019.563479</td>\n",
       "      <td>-5524.047901</td>\n",
       "      <td>INH</td>\n",
       "      <td>1</td>\n",
       "      <td>L1_DAC</td>\n",
       "    </tr>\n",
       "  </tbody>\n",
       "</table>\n",
       "</div>"
      ],
      "text/plain": [
       "                    gid            x            y            z synapse_class  \\\n",
       "circuit subtarget                                                              \n",
       "Bio_M   R0;C10      455  5349.881407 -2189.938376 -5461.554050           INH   \n",
       "        R0;C10      805  5435.330946 -2085.202960 -5411.225766           INH   \n",
       "        R0;C10     3930  5422.509430 -2121.012844 -5511.005647           INH   \n",
       "        R0;C10     4303  5441.431546 -1996.386178 -5491.911368           INH   \n",
       "        R0;C10     5384  5499.207748 -2019.563479 -5524.047901           INH   \n",
       "\n",
       "                   layer   mtype  \n",
       "circuit subtarget                 \n",
       "Bio_M   R0;C10         1  L1_DAC  \n",
       "        R0;C10         1  L1_DAC  \n",
       "        R0;C10         1  L1_DAC  \n",
       "        R0;C10         1  L1_DAC  \n",
       "        R0;C10         1  L1_DAC  "
      ]
     },
     "execution_count": 31,
     "metadata": {},
     "output_type": "execute_result"
    }
   ],
   "source": [
    "s = \"R0;C10\"\n",
    "nodes_r0c10 = tap.data.get_nodes(\"Bio_M\", s)\n",
    "LOG.info(\"Number of nodes in subtarget %s: %s: \", s,  len(nodes_r0c10))\n",
    "nodes_r0c10.head()"
   ]
  },
  {
   "cell_type": "markdown",
   "id": "81107ba4",
   "metadata": {},
   "source": [
    "Adjacencies in the circuit have been extracted for each circuit, and\n",
    "can be loaded using:"
   ]
  },
  {
   "cell_type": "code",
   "execution_count": 36,
   "id": "90c41d94",
   "metadata": {
    "ExecuteTime": {
     "end_time": "2021-11-12T13:03:22.528521Z",
     "start_time": "2021-11-12T13:03:22.522305Z"
    }
   },
   "outputs": [
    {
     "name": "stderr",
     "output_type": "stream",
     "text": [
      "/gpfs/bbp.cscs.ch/home/sood/rsynced/work/project/proj83/topological-analysis-of-subvolumes/connsense/pipeline.py:227: FutureWarning: Passing lists as key for xs is deprecated and will be removed in a future version. Pass key as a tuple instead.\n",
      "  \"\"\"...\"\"\"\n",
      " 2021-11-12 14:03:22,525: Adjacency R0;C10: (6719, 6719)\n"
     ]
    }
   ],
   "source": [
    "adj_r0c10 = tap.data.get_adjacency(circuit=\"Bio_M\", subtarget=s,\n",
    "                                   connectome=\"local\")\n",
    "LOG.info(\"Adjacency %s: %s\", s, adj_r0c10.shape)"
   ]
  },
  {
   "cell_type": "markdown",
   "id": "2e7902f4",
   "metadata": {},
   "source": [
    "We can also get all the data for a subtarget:"
   ]
  },
  {
   "cell_type": "code",
   "execution_count": 44,
   "id": "8edbe42f",
   "metadata": {
    "ExecuteTime": {
     "end_time": "2021-11-12T13:06:08.977324Z",
     "start_time": "2021-11-12T13:06:08.905228Z"
    }
   },
   "outputs": [
    {
     "name": "stderr",
     "output_type": "stream",
     "text": [
      "/gpfs/bbp.cscs.ch/home/sood/rsynced/work/project/proj83/topological-analysis-of-subvolumes/connsense/pipeline.py:213: FutureWarning: Passing lists as key for xs is deprecated and will be removed in a future version. Pass key as a tuple instead.\n",
      "  \n",
      "/gpfs/bbp.cscs.ch/home/sood/rsynced/work/project/proj83/topological-analysis-of-subvolumes/connsense/pipeline.py:227: FutureWarning: Passing lists as key for xs is deprecated and will be removed in a future version. Pass key as a tuple instead.\n",
      "  \"\"\"...\"\"\"\n",
      "/gpfs/bbp.cscs.ch/home/sood/rsynced/work/project/proj83/topological-analysis-of-subvolumes/connsense/pipeline.py:244: FutureWarning: Passing lists as key for xs is deprecated and will be removed in a future version. Pass key as a tuple instead.\n",
      "  \n",
      " 2021-11-12 14:06:08,974: Data availabel for column R0;C10: ['nodes', 'adjacency', 'randomizations']\n"
     ]
    }
   ],
   "source": [
    "data_r0c10 = tap.data.get_data(circuit=\"Bio_M\", subtarget=\"R0;C10\")\n",
    "\n",
    "LOG.info(\"Data availabel for column R0;C10: %s\", list(data_r0c10.keys()))"
   ]
  },
  {
   "cell_type": "markdown",
   "id": "89f7eec7",
   "metadata": {
    "ExecuteTime": {
     "end_time": "2021-11-12T13:05:11.841317Z",
     "start_time": "2021-11-12T13:05:11.822626Z"
    }
   },
   "source": [
    "The nodes data, and adjacency will be as described above.\n",
    "Randomizations will be return if these are available as a dataframe:"
   ]
  },
  {
   "cell_type": "code",
   "execution_count": 45,
   "id": "ffe72de6",
   "metadata": {
    "ExecuteTime": {
     "end_time": "2021-11-12T13:07:45.880349Z",
     "start_time": "2021-11-12T13:07:45.872131Z"
    }
   },
   "outputs": [
    {
     "data": {
      "text/plain": [
       "algorithm                            connectome  flat_x       flat_y\n",
       "Erodos-Renyi-controlling-out-degree  local       3983.716857  0.0       <connsense.io.write_results.LazyMatrix object ...\n",
       "Erodos-Renyi-controlling-in-degree   local       3983.716857  0.0       <connsense.io.write_results.LazyMatrix object ...\n",
       "dtype: object"
      ]
     },
     "execution_count": 45,
     "metadata": {},
     "output_type": "execute_result"
    }
   ],
   "source": [
    "randomizations = data_r0c10[\"randomizations\"]\n",
    "randomizations"
   ]
  },
  {
   "cell_type": "markdown",
   "id": "d00aec70",
   "metadata": {},
   "source": [
    "In this `pandas.Series` values are `LazyMatrix` instances that store a path to \n",
    "the jar in which the matrix has been pickled.\n",
    "To load the data, all you have to do is"
   ]
  },
  {
   "cell_type": "code",
   "execution_count": 48,
   "id": "dce62ace",
   "metadata": {
    "ExecuteTime": {
     "end_time": "2021-11-12T13:10:44.034997Z",
     "start_time": "2021-11-12T13:10:44.027466Z"
    }
   },
   "outputs": [
    {
     "name": "stderr",
     "output_type": "stream",
     "text": [
      " 2021-11-12 14:10:44,029: Randomized matrices of shapes \n",
      "algorithm                            connectome  flat_x       flat_y\n",
      "Erodos-Renyi-controlling-out-degree  local       3983.716857  0.0       (6719, 6719)\n",
      "Erodos-Renyi-controlling-in-degree   local       3983.716857  0.0       (6719, 6719)\n",
      "dtype: object\n"
     ]
    }
   ],
   "source": [
    "random_matrices = randomizations.apply(lambda m: m.matrix)\n",
    "\n",
    "LOG.info(\"Randomized matrices of shapes \\n%s\",\n",
    "         random_matrices.apply(lambda m: m.shape))"
   ]
  },
  {
   "cell_type": "markdown",
   "id": "4e9bf0fd",
   "metadata": {},
   "source": [
    "Finally, let us illustrate the data formats by computing the number of \n",
    "edges by synapse class."
   ]
  },
  {
   "cell_type": "code",
   "execution_count": 86,
   "id": "89c73fe8",
   "metadata": {
    "ExecuteTime": {
     "end_time": "2021-11-12T14:11:53.157452Z",
     "start_time": "2021-11-12T14:11:53.151659Z"
    }
   },
   "outputs": [],
   "source": [
    "def count_edges_by_synapse_class(data, circuit, subtargets=None):\n",
    "    \"\"\"...\"\"\"\n",
    "    subtargets = subtargets or data.get_subtargets(circuit)\n",
    "    \n",
    "    def count_subtarget(s):\n",
    "        \"\"\"...\"\"\"\n",
    "        nodes = data.get_nodes(circuit, subtarget=s)\n",
    "        adj = data.get_adjacency(circuit, subtarget=s, connectome=\"local\")\n",
    "        edge_nodes = np.where(pd.DataFrame.sparse.from_spmatrix(adj))\n",
    "        edges = pd.DataFrame({\"pre\": edge_nodes[0], \"post\": edge_nodes[1]})\n",
    "        \n",
    "        pre_sc = nodes.synapse_class.iloc[edges.pre.values]\n",
    "        post_sc = nodes.synapse_class.iloc[edges.post.values]\n",
    "        \n",
    "        return pd.DataFrame({\"pre\": pre_sc, \"post\": post_sc}).value_counts()\n",
    "    \n",
    "    return pd.concat([count_subtarget(s) for s in subtargets],\n",
    "                    keys=subtargets, names=[\"subtarget\"])\n",
    "        "
   ]
  },
  {
   "cell_type": "code",
   "execution_count": 89,
   "id": "12aa23de",
   "metadata": {
    "ExecuteTime": {
     "end_time": "2021-11-12T14:13:57.974184Z",
     "start_time": "2021-11-12T14:13:57.946465Z"
    }
   },
   "outputs": [
    {
     "name": "stderr",
     "output_type": "stream",
     "text": [
      " 2021-11-12 15:13:57,949: statistics for synapse_class --> synapse_class connectivity\n"
     ]
    },
    {
     "data": {
      "text/html": [
       "<div>\n",
       "<style scoped>\n",
       "    .dataframe tbody tr th:only-of-type {\n",
       "        vertical-align: middle;\n",
       "    }\n",
       "\n",
       "    .dataframe tbody tr th {\n",
       "        vertical-align: top;\n",
       "    }\n",
       "\n",
       "    .dataframe thead th {\n",
       "        text-align: right;\n",
       "    }\n",
       "</style>\n",
       "<table border=\"1\" class=\"dataframe\">\n",
       "  <thead>\n",
       "    <tr style=\"text-align: right;\">\n",
       "      <th></th>\n",
       "      <th></th>\n",
       "      <th>min</th>\n",
       "      <th>mean</th>\n",
       "      <th>std</th>\n",
       "      <th>median</th>\n",
       "      <th>mad</th>\n",
       "      <th>max</th>\n",
       "    </tr>\n",
       "    <tr>\n",
       "      <th>pre</th>\n",
       "      <th>post</th>\n",
       "      <th></th>\n",
       "      <th></th>\n",
       "      <th></th>\n",
       "      <th></th>\n",
       "      <th></th>\n",
       "      <th></th>\n",
       "    </tr>\n",
       "  </thead>\n",
       "  <tbody>\n",
       "    <tr>\n",
       "      <th rowspan=\"2\" valign=\"top\">EXC</th>\n",
       "      <th>EXC</th>\n",
       "      <td>18184</td>\n",
       "      <td>3824972.0</td>\n",
       "      <td>2.059240e+06</td>\n",
       "      <td>4298252.5</td>\n",
       "      <td>1525449.20</td>\n",
       "      <td>6583985</td>\n",
       "    </tr>\n",
       "    <tr>\n",
       "      <th>INH</th>\n",
       "      <td>1344</td>\n",
       "      <td>293858.1</td>\n",
       "      <td>1.615373e+05</td>\n",
       "      <td>326944.0</td>\n",
       "      <td>116566.66</td>\n",
       "      <td>559751</td>\n",
       "    </tr>\n",
       "    <tr>\n",
       "      <th rowspan=\"2\" valign=\"top\">INH</th>\n",
       "      <th>EXC</th>\n",
       "      <td>2366</td>\n",
       "      <td>303143.3</td>\n",
       "      <td>1.588469e+05</td>\n",
       "      <td>337519.5</td>\n",
       "      <td>115290.98</td>\n",
       "      <td>536854</td>\n",
       "    </tr>\n",
       "    <tr>\n",
       "      <th>INH</th>\n",
       "      <td>214</td>\n",
       "      <td>23971.9</td>\n",
       "      <td>1.259928e+04</td>\n",
       "      <td>26425.0</td>\n",
       "      <td>9080.54</td>\n",
       "      <td>44276</td>\n",
       "    </tr>\n",
       "  </tbody>\n",
       "</table>\n",
       "</div>"
      ],
      "text/plain": [
       "            min       mean           std     median         mad      max\n",
       "pre post                                                                \n",
       "EXC EXC   18184  3824972.0  2.059240e+06  4298252.5  1525449.20  6583985\n",
       "    INH    1344   293858.1  1.615373e+05   326944.0   116566.66   559751\n",
       "INH EXC    2366   303143.3  1.588469e+05   337519.5   115290.98   536854\n",
       "    INH     214    23971.9  1.259928e+04    26425.0     9080.54    44276"
      ]
     },
     "execution_count": 89,
     "metadata": {},
     "output_type": "execute_result"
    }
   ],
   "source": [
    "sample = pd.Series(tap.data.get_subtargets(\"Bio_M\")).sample(n=10).to_list()\n",
    "#q = count_edges_by_synapse_class(tap.data, circuit=\"Bio_M\", subtargets=sample)\n",
    "LOG.info(\"statistics for synapse_class --> synapse_class connectivity\")\n",
    "q.groupby([\"pre\", \"post\"]).agg([\"min\", \"mean\", \"std\", \"median\", \"mad\", \"max\"])"
   ]
  },
  {
   "cell_type": "code",
   "execution_count": null,
   "id": "7320362e",
   "metadata": {},
   "outputs": [],
   "source": []
  }
 ],
 "metadata": {
  "kernelspec": {
   "display_name": "Python 3 (ipykernel)",
   "language": "python",
   "name": "python3"
  },
  "language_info": {
   "codemirror_mode": {
    "name": "ipython",
    "version": 3
   },
   "file_extension": ".py",
   "mimetype": "text/x-python",
   "name": "python",
   "nbconvert_exporter": "python",
   "pygments_lexer": "ipython3",
   "version": "3.8.3"
  },
  "varInspector": {
   "cols": {
    "lenName": 16,
    "lenType": 16,
    "lenVar": 40
   },
   "kernels_config": {
    "python": {
     "delete_cmd_postfix": "",
     "delete_cmd_prefix": "del ",
     "library": "var_list.py",
     "varRefreshCmd": "print(var_dic_list())"
    },
    "r": {
     "delete_cmd_postfix": ") ",
     "delete_cmd_prefix": "rm(",
     "library": "var_list.r",
     "varRefreshCmd": "cat(var_dic_list()) "
    }
   },
   "types_to_exclude": [
    "module",
    "function",
    "builtin_function_or_method",
    "instance",
    "_Feature"
   ],
   "window_display": false
  }
 },
 "nbformat": 4,
 "nbformat_minor": 5
}

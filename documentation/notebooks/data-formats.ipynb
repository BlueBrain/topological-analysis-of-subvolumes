{
 "cells": [
  {
   "cell_type": "markdown",
   "id": "99a2a85b",
   "metadata": {},
   "source": [
    "# Data formats for a topological analysis of circuit subvolumes\n",
    "\n",
    "The topological analysis pipeline archives the computed data to an HDf store using a\n",
    "schema specified in the pipeline config.\n",
    "Here we discuss the schema, and a utility that the package provides to load node-properties\n",
    "and connectivity matrices.\n",
    "\n",
    "\n",
    "Let us begin by loading the required code, and data"
   ]
  },
  {
   "cell_type": "markdown",
   "id": "87c08488",
   "metadata": {},
   "source": [
    "## Virtual Environment\n",
    "\n",
    "A Python virtual environment is needed to run the notebook,\n",
    "and for writing your own.\n",
    "This notebook has been run in an environment created with the posix shell command\n",
    "`source /gpfs/bbp.cscs.ch/project/proj83/home/sood/venv.sh`"
   ]
  },
  {
   "cell_type": "code",
   "execution_count": 1,
   "id": "541fa299",
   "metadata": {
    "ExecuteTime": {
     "end_time": "2021-11-12T12:44:24.258134Z",
     "start_time": "2021-11-12T12:44:23.356073Z"
    }
   },
   "outputs": [],
   "source": [
    "from importlib import reload\n",
    "from pathlib import Path\n",
    "import pandas as pd\n",
    "import numpy as np\n",
    "from matplotlib import pyplot as plt\n",
    "import seaborn as sbn"
   ]
  },
  {
   "cell_type": "markdown",
   "id": "5f9a5ef8",
   "metadata": {},
   "source": [
    "At of 20211112, the pipeline *sub-package* is called `connsense`, and can be\n",
    "pip installed from the repository (branch `add-subpackages`.\n",
    "\n",
    "Reading, and writing of topological analysis data uses `connsense.io`."
   ]
  },
  {
   "cell_type": "code",
   "execution_count": 3,
   "id": "c2b0567b",
   "metadata": {
    "ExecuteTime": {
     "end_time": "2021-11-12T12:44:56.395004Z",
     "start_time": "2021-11-12T12:44:56.259938Z"
    }
   },
   "outputs": [
    {
     "name": "stderr",
     "output_type": "stream",
     "text": [
      " 2021-11-12 13:44:56,392: A tutorial on interacting with topological analysis pipeline data\n"
     ]
    }
   ],
   "source": [
    "from connsense import pipeline\n",
    "from connsense.io import logging, read_config, write_results\n",
    "\n",
    "LOG = logging.get_logger(\"TopoAnalysis DataFormats\", \"INFO\")\n",
    "\n",
    "LOG.info(\"A tutorial on interacting with topological analysis pipeline data\")"
   ]
  },
  {
   "cell_type": "markdown",
   "id": "4375ba9b",
   "metadata": {},
   "source": [
    "We already have extracted connectivity data that we can use."
   ]
  },
  {
   "cell_type": "code",
   "execution_count": 4,
   "id": "7f626ade",
   "metadata": {
    "ExecuteTime": {
     "end_time": "2021-11-12T12:45:03.424432Z",
     "start_time": "2021-11-12T12:45:03.413651Z"
    }
   },
   "outputs": [
    {
     "name": "stderr",
     "output_type": "stream",
     "text": [
      " 2021-11-12 13:45:03,415: Configuration and data\n",
      " 2021-11-12 13:45:03,419: \t/gpfs/bbp.cscs.ch/project/proj83/analyses/topological-analysis-subvolumes/topological_sampling.h5\n",
      " 2021-11-12 13:45:03,420: \t/gpfs/bbp.cscs.ch/project/proj83/analyses/topological-analysis-subvolumes/config.json\n",
      " 2021-11-12 13:45:03,420: \t/gpfs/bbp.cscs.ch/project/proj83/analyses/topological-analysis-subvolumes/.config.json.swp\n"
     ]
    }
   ],
   "source": [
    "proj83 = Path(\"/gpfs/bbp.cscs.ch/project/proj83\")\n",
    "path_topo_analysis = proj83 / \"analyses\" / \"topological-analysis-subvolumes\"\n",
    "LOG.info(\"Configuration and data\")\n",
    "for f in path_topo_analysis.glob('*'):\n",
    "    LOG.info(\"\\t%s\", f)\n",
    "path_config = path_topo_analysis/\"config.json\""
   ]
  },
  {
   "cell_type": "code",
   "execution_count": 21,
   "id": "5974c568",
   "metadata": {
    "ExecuteTime": {
     "end_time": "2021-11-12T12:53:25.656010Z",
     "start_time": "2021-11-12T12:53:25.518522Z"
    }
   },
   "outputs": [
    {
     "name": "stderr",
     "output_type": "stream",
     "text": [
      " 2021-11-12 13:53:25,645: Pipeline data HDF-store: \n",
      "\t/gpfs/bbp.cscs.ch/project/proj83/analyses/topological-analysis-subvolumes/topological_sampling.h5\n",
      " 2021-11-12 13:53:25,646: \t(0) define-subtargets: subtargets\n",
      " 2021-11-12 13:53:25,647: \t(1) extract-neurons: neurons\n",
      " 2021-11-12 13:53:25,649: \t(2) evaluate-subtargets: subtarget_quality\n",
      " 2021-11-12 13:53:25,650: \t(3) extract-connectivity: con_mats/original\n",
      " 2021-11-12 13:53:25,651: \t(4) randomize-connectivity: con_mats/randomized\n",
      " 2021-11-12 13:53:25,653: \t(5) analyze-connectivity: analysis\n"
     ]
    }
   ],
   "source": [
    "reload(pipeline)\n",
    "config = read_config.read(path_topo_analysis/\"config.json\")\n",
    "tap = pipeline.TopologicalAnalysis(path_config)\n",
    "paths = config[\"paths\"]\n",
    "LOG.info(\"Pipeline data HDF-store: \\n\\t%s\", tap._data._root)\n",
    "for i, (step, group) in enumerate(tap._data._groups.items()):\n",
    "    LOG.info(\"\\t(%s) %s: %s\", i, step, group)"
   ]
  },
  {
   "cell_type": "markdown",
   "id": "0ae9ed1d",
   "metadata": {},
   "source": [
    "The pipeline object we have defined above can be used to inspect all the data\n",
    "that has already been computed in the pipeline."
   ]
  },
  {
   "cell_type": "code",
   "execution_count": 22,
   "id": "57b2bca4",
   "metadata": {
    "ExecuteTime": {
     "end_time": "2021-11-12T12:54:40.307578Z",
     "start_time": "2021-11-12T12:54:39.008056Z"
    }
   },
   "outputs": [
    {
     "name": "stderr",
     "output_type": "stream",
     "text": [
      " 2021-11-12 13:54:39,009: Circuits for which data is available: \n",
      " 2021-11-12 13:54:40,305: (0). Bio_M\n"
     ]
    }
   ],
   "source": [
    "LOG.info(\"Circuits for which data is available: \")\n",
    "\n",
    "for  i, c in enumerate(tap.data.circuits):\n",
    "    LOG.info(\"(%s). %s\", i, c)"
   ]
  },
  {
   "cell_type": "markdown",
   "id": "a84b6ed8",
   "metadata": {
    "ExecuteTime": {
     "end_time": "2021-11-12T12:52:28.704554Z",
     "start_time": "2021-11-12T12:52:28.700225Z"
    }
   },
   "source": [
    "Only one circuit is available, along with a single connectome (local).\n",
    "The subtargets are named by their column and row in the flatspace:"
   ]
  },
  {
   "cell_type": "code",
   "execution_count": 29,
   "id": "0c7bee9b",
   "metadata": {
    "ExecuteTime": {
     "end_time": "2021-11-12T12:59:27.771466Z",
     "start_time": "2021-11-12T12:59:27.762361Z"
    }
   },
   "outputs": [
    {
     "name": "stderr",
     "output_type": "stream",
     "text": [
      " 2021-11-12 13:59:27,764: Available subtargets for circuit Bio_M: 247\n",
      " 2021-11-12 13:59:27,768: \t They are named (row, column)\n",
      " 2021-11-12 13:59:27,768: \tFor example column defined from the 10th row, and 7 column: R10;C7\n"
     ]
    }
   ],
   "source": [
    "subtargets = tap.data.get_subtargets(\"Bio_M\")\n",
    "LOG.info(\"Available subtargets for circuit Bio_M: %s\", len(subtargets ))\n",
    "LOG.info(\"\\t They are named (row, column)\")\n",
    "LOG.info(\"\\tFor example column defined from the 10th row, and 7 column: R10;C7\")"
   ]
  },
  {
   "cell_type": "code",
   "execution_count": 31,
   "id": "b71dbfd2",
   "metadata": {
    "ExecuteTime": {
     "end_time": "2021-11-12T13:01:13.747994Z",
     "start_time": "2021-11-12T13:01:13.668900Z"
    }
   },
   "outputs": [
    {
     "name": "stderr",
     "output_type": "stream",
     "text": [
      "/gpfs/bbp.cscs.ch/home/sood/rsynced/work/project/proj83/topological-analysis-of-subvolumes/connsense/pipeline.py:213: FutureWarning: Passing lists as key for xs is deprecated and will be removed in a future version. Pass key as a tuple instead.\n",
      "  \n",
      " 2021-11-12 14:01:13,736: Number of nodes in subtarget R0;C10: 6719: \n"
     ]
    },
    {
     "data": {
      "text/html": [
       "<div>\n",
       "<style scoped>\n",
       "    .dataframe tbody tr th:only-of-type {\n",
       "        vertical-align: middle;\n",
       "    }\n",
       "\n",
       "    .dataframe tbody tr th {\n",
       "        vertical-align: top;\n",
       "    }\n",
       "\n",
       "    .dataframe thead th {\n",
       "        text-align: right;\n",
       "    }\n",
       "</style>\n",
       "<table border=\"1\" class=\"dataframe\">\n",
       "  <thead>\n",
       "    <tr style=\"text-align: right;\">\n",
       "      <th></th>\n",
       "      <th></th>\n",
       "      <th>gid</th>\n",
       "      <th>x</th>\n",
       "      <th>y</th>\n",
       "      <th>z</th>\n",
       "      <th>synapse_class</th>\n",
       "      <th>layer</th>\n",
       "      <th>mtype</th>\n",
       "    </tr>\n",
       "    <tr>\n",
       "      <th>circuit</th>\n",
       "      <th>subtarget</th>\n",
       "      <th></th>\n",
       "      <th></th>\n",
       "      <th></th>\n",
       "      <th></th>\n",
       "      <th></th>\n",
       "      <th></th>\n",
       "      <th></th>\n",
       "    </tr>\n",
       "  </thead>\n",
       "  <tbody>\n",
       "    <tr>\n",
       "      <th rowspan=\"5\" valign=\"top\">Bio_M</th>\n",
       "      <th>R0;C10</th>\n",
       "      <td>455</td>\n",
       "      <td>5349.881407</td>\n",
       "      <td>-2189.938376</td>\n",
       "      <td>-5461.554050</td>\n",
       "      <td>INH</td>\n",
       "      <td>1</td>\n",
       "      <td>L1_DAC</td>\n",
       "    </tr>\n",
       "    <tr>\n",
       "      <th>R0;C10</th>\n",
       "      <td>805</td>\n",
       "      <td>5435.330946</td>\n",
       "      <td>-2085.202960</td>\n",
       "      <td>-5411.225766</td>\n",
       "      <td>INH</td>\n",
       "      <td>1</td>\n",
       "      <td>L1_DAC</td>\n",
       "    </tr>\n",
       "    <tr>\n",
       "      <th>R0;C10</th>\n",
       "      <td>3930</td>\n",
       "      <td>5422.509430</td>\n",
       "      <td>-2121.012844</td>\n",
       "      <td>-5511.005647</td>\n",
       "      <td>INH</td>\n",
       "      <td>1</td>\n",
       "      <td>L1_DAC</td>\n",
       "    </tr>\n",
       "    <tr>\n",
       "      <th>R0;C10</th>\n",
       "      <td>4303</td>\n",
       "      <td>5441.431546</td>\n",
       "      <td>-1996.386178</td>\n",
       "      <td>-5491.911368</td>\n",
       "      <td>INH</td>\n",
       "      <td>1</td>\n",
       "      <td>L1_DAC</td>\n",
       "    </tr>\n",
       "    <tr>\n",
       "      <th>R0;C10</th>\n",
       "      <td>5384</td>\n",
       "      <td>5499.207748</td>\n",
       "      <td>-2019.563479</td>\n",
       "      <td>-5524.047901</td>\n",
       "      <td>INH</td>\n",
       "      <td>1</td>\n",
       "      <td>L1_DAC</td>\n",
       "    </tr>\n",
       "  </tbody>\n",
       "</table>\n",
       "</div>"
      ],
      "text/plain": [
       "                    gid            x            y            z synapse_class  \\\n",
       "circuit subtarget                                                              \n",
       "Bio_M   R0;C10      455  5349.881407 -2189.938376 -5461.554050           INH   \n",
       "        R0;C10      805  5435.330946 -2085.202960 -5411.225766           INH   \n",
       "        R0;C10     3930  5422.509430 -2121.012844 -5511.005647           INH   \n",
       "        R0;C10     4303  5441.431546 -1996.386178 -5491.911368           INH   \n",
       "        R0;C10     5384  5499.207748 -2019.563479 -5524.047901           INH   \n",
       "\n",
       "                   layer   mtype  \n",
       "circuit subtarget                 \n",
       "Bio_M   R0;C10         1  L1_DAC  \n",
       "        R0;C10         1  L1_DAC  \n",
       "        R0;C10         1  L1_DAC  \n",
       "        R0;C10         1  L1_DAC  \n",
       "        R0;C10         1  L1_DAC  "
      ]
     },
     "execution_count": 31,
     "metadata": {},
     "output_type": "execute_result"
    }
   ],
   "source": [
    "s = \"R0;C10\"\n",
    "nodes_r0c10 = tap.data.get_nodes(\"Bio_M\", s)\n",
    "LOG.info(\"Number of nodes in subtarget %s: %s: \", s,  len(nodes_r0c10))\n",
    "nodes_r0c10.head()"
   ]
  },
  {
   "cell_type": "markdown",
   "id": "79664010",
   "metadata": {},
   "source": [
    "Adjacencies in the circuit have been extracted for each circuit, and\n",
    "can be loaded using:"
   ]
  },
  {
   "cell_type": "code",
   "execution_count": 36,
   "id": "ae163ea8",
   "metadata": {
    "ExecuteTime": {
     "end_time": "2021-11-12T13:03:22.528521Z",
     "start_time": "2021-11-12T13:03:22.522305Z"
    }
   },
   "outputs": [
    {
     "name": "stderr",
     "output_type": "stream",
     "text": [
      "/gpfs/bbp.cscs.ch/home/sood/rsynced/work/project/proj83/topological-analysis-of-subvolumes/connsense/pipeline.py:227: FutureWarning: Passing lists as key for xs is deprecated and will be removed in a future version. Pass key as a tuple instead.\n",
      "  \"\"\"...\"\"\"\n",
      " 2021-11-12 14:03:22,525: Adjacency R0;C10: (6719, 6719)\n"
     ]
    }
   ],
   "source": [
    "adj_r0c10 = tap.data.get_adjacency(circuit=\"Bio_M\", subtarget=s,\n",
    "                                   connectome=\"local\")\n",
    "LOG.info(\"Adjacency %s: %s\", s, adj_r0c10.shape)"
   ]
  },
  {
   "cell_type": "markdown",
   "id": "5fd8e1ff",
   "metadata": {},
   "source": [
    "We can also get all the data for a subtarget:"
   ]
  },
  {
   "cell_type": "code",
   "execution_count": 44,
   "id": "552460a3",
   "metadata": {
    "ExecuteTime": {
     "end_time": "2021-11-12T13:06:08.977324Z",
     "start_time": "2021-11-12T13:06:08.905228Z"
    }
   },
   "outputs": [
    {
     "name": "stderr",
     "output_type": "stream",
     "text": [
      "/gpfs/bbp.cscs.ch/home/sood/rsynced/work/project/proj83/topological-analysis-of-subvolumes/connsense/pipeline.py:213: FutureWarning: Passing lists as key for xs is deprecated and will be removed in a future version. Pass key as a tuple instead.\n",
      "  \n",
      "/gpfs/bbp.cscs.ch/home/sood/rsynced/work/project/proj83/topological-analysis-of-subvolumes/connsense/pipeline.py:227: FutureWarning: Passing lists as key for xs is deprecated and will be removed in a future version. Pass key as a tuple instead.\n",
      "  \"\"\"...\"\"\"\n",
      "/gpfs/bbp.cscs.ch/home/sood/rsynced/work/project/proj83/topological-analysis-of-subvolumes/connsense/pipeline.py:244: FutureWarning: Passing lists as key for xs is deprecated and will be removed in a future version. Pass key as a tuple instead.\n",
      "  \n",
      " 2021-11-12 14:06:08,974: Data availabel for column R0;C10: ['nodes', 'adjacency', 'randomizations']\n"
     ]
    }
   ],
   "source": [
    "data_r0c10 = tap.data.get_data(circuit=\"Bio_M\", subtarget=\"R0;C10\")\n",
    "\n",
    "LOG.info(\"Data availabel for column R0;C10: %s\", list(data_r0c10.keys()))"
   ]
  },
  {
   "cell_type": "markdown",
   "id": "98e43685",
   "metadata": {
    "ExecuteTime": {
     "end_time": "2021-11-12T13:05:11.841317Z",
     "start_time": "2021-11-12T13:05:11.822626Z"
    }
   },
   "source": [
    "The nodes data, and adjacency will be as described above.\n",
    "Randomizations will be return if these are available as a dataframe:"
   ]
  },
  {
   "cell_type": "code",
   "execution_count": 45,
   "id": "d211871e",
   "metadata": {
    "ExecuteTime": {
     "end_time": "2021-11-12T13:07:45.880349Z",
     "start_time": "2021-11-12T13:07:45.872131Z"
    }
   },
   "outputs": [
    {
     "data": {
      "text/plain": [
       "algorithm                            connectome  flat_x       flat_y\n",
       "Erodos-Renyi-controlling-out-degree  local       3983.716857  0.0       <connsense.io.write_results.LazyMatrix object ...\n",
       "Erodos-Renyi-controlling-in-degree   local       3983.716857  0.0       <connsense.io.write_results.LazyMatrix object ...\n",
       "dtype: object"
      ]
     },
     "execution_count": 45,
     "metadata": {},
     "output_type": "execute_result"
    }
   ],
   "source": [
    "randomizations = data_r0c10[\"randomizations\"]\n",
    "randomizations"
   ]
  },
  {
   "cell_type": "markdown",
   "id": "e580928a",
   "metadata": {},
   "source": [
    "In this `pandas.Series` values are `LazyMatrix` instances that store a path to \n",
    "the jar in which the matrix has been pickled.\n",
    "To load the data, all you have to do is"
   ]
  },
  {
   "cell_type": "code",
   "execution_count": 48,
   "id": "8c5112a1",
   "metadata": {
    "ExecuteTime": {
     "end_time": "2021-11-12T13:10:44.034997Z",
     "start_time": "2021-11-12T13:10:44.027466Z"
    }
   },
   "outputs": [
    {
     "name": "stderr",
     "output_type": "stream",
     "text": [
      " 2021-11-12 14:10:44,029: Randomized matrices of shapes \n",
      "algorithm                            connectome  flat_x       flat_y\n",
      "Erodos-Renyi-controlling-out-degree  local       3983.716857  0.0       (6719, 6719)\n",
      "Erodos-Renyi-controlling-in-degree   local       3983.716857  0.0       (6719, 6719)\n",
      "dtype: object\n"
     ]
    }
   ],
   "source": [
    "random_matrices = randomizations.apply(lambda m: m.matrix)\n",
    "\n",
    "LOG.info(\"Randomized matrices of shapes \\n%s\",\n",
    "         random_matrices.apply(lambda m: m.shape))"
   ]
  },
  {
   "cell_type": "markdown",
   "id": "6a90bfac",
   "metadata": {},
   "source": [
    "Finally, let us illustrate the data formats by computing the number of \n",
    "edges by synapse class."
   ]
  },
  {
   "cell_type": "code",
   "execution_count": 50,
   "id": "4582bf3b",
   "metadata": {
    "ExecuteTime": {
     "end_time": "2021-11-12T13:20:18.633984Z",
     "start_time": "2021-11-12T13:20:17.859233Z"
    }
   },
   "outputs": [
    {
     "name": "stdout",
     "output_type": "stream",
     "text": [
      "(6719, 6719)\n"
     ]
    },
    {
     "data": {
      "text/html": [
       "<div>\n",
       "<style scoped>\n",
       "    .dataframe tbody tr th:only-of-type {\n",
       "        vertical-align: middle;\n",
       "    }\n",
       "\n",
       "    .dataframe tbody tr th {\n",
       "        vertical-align: top;\n",
       "    }\n",
       "\n",
       "    .dataframe thead th {\n",
       "        text-align: right;\n",
       "    }\n",
       "</style>\n",
       "<table border=\"1\" class=\"dataframe\">\n",
       "  <thead>\n",
       "    <tr style=\"text-align: right;\">\n",
       "      <th></th>\n",
       "      <th>0</th>\n",
       "      <th>1</th>\n",
       "      <th>2</th>\n",
       "      <th>3</th>\n",
       "      <th>4</th>\n",
       "      <th>5</th>\n",
       "      <th>6</th>\n",
       "      <th>7</th>\n",
       "      <th>8</th>\n",
       "      <th>9</th>\n",
       "      <th>...</th>\n",
       "      <th>6709</th>\n",
       "      <th>6710</th>\n",
       "      <th>6711</th>\n",
       "      <th>6712</th>\n",
       "      <th>6713</th>\n",
       "      <th>6714</th>\n",
       "      <th>6715</th>\n",
       "      <th>6716</th>\n",
       "      <th>6717</th>\n",
       "      <th>6718</th>\n",
       "    </tr>\n",
       "  </thead>\n",
       "  <tbody>\n",
       "    <tr>\n",
       "      <th>0</th>\n",
       "      <td>0</td>\n",
       "      <td>0</td>\n",
       "      <td>0</td>\n",
       "      <td>0</td>\n",
       "      <td>0</td>\n",
       "      <td>0</td>\n",
       "      <td>0</td>\n",
       "      <td>0</td>\n",
       "      <td>0</td>\n",
       "      <td>0</td>\n",
       "      <td>...</td>\n",
       "      <td>0</td>\n",
       "      <td>0</td>\n",
       "      <td>0</td>\n",
       "      <td>0</td>\n",
       "      <td>0</td>\n",
       "      <td>0</td>\n",
       "      <td>0</td>\n",
       "      <td>0</td>\n",
       "      <td>0</td>\n",
       "      <td>0</td>\n",
       "    </tr>\n",
       "    <tr>\n",
       "      <th>1</th>\n",
       "      <td>0</td>\n",
       "      <td>0</td>\n",
       "      <td>0</td>\n",
       "      <td>0</td>\n",
       "      <td>0</td>\n",
       "      <td>0</td>\n",
       "      <td>0</td>\n",
       "      <td>0</td>\n",
       "      <td>0</td>\n",
       "      <td>0</td>\n",
       "      <td>...</td>\n",
       "      <td>0</td>\n",
       "      <td>0</td>\n",
       "      <td>0</td>\n",
       "      <td>0</td>\n",
       "      <td>0</td>\n",
       "      <td>0</td>\n",
       "      <td>0</td>\n",
       "      <td>0</td>\n",
       "      <td>0</td>\n",
       "      <td>0</td>\n",
       "    </tr>\n",
       "    <tr>\n",
       "      <th>2</th>\n",
       "      <td>0</td>\n",
       "      <td>0</td>\n",
       "      <td>0</td>\n",
       "      <td>0</td>\n",
       "      <td>0</td>\n",
       "      <td>0</td>\n",
       "      <td>0</td>\n",
       "      <td>0</td>\n",
       "      <td>0</td>\n",
       "      <td>0</td>\n",
       "      <td>...</td>\n",
       "      <td>0</td>\n",
       "      <td>0</td>\n",
       "      <td>0</td>\n",
       "      <td>0</td>\n",
       "      <td>0</td>\n",
       "      <td>0</td>\n",
       "      <td>0</td>\n",
       "      <td>0</td>\n",
       "      <td>0</td>\n",
       "      <td>0</td>\n",
       "    </tr>\n",
       "    <tr>\n",
       "      <th>3</th>\n",
       "      <td>0</td>\n",
       "      <td>0</td>\n",
       "      <td>0</td>\n",
       "      <td>0</td>\n",
       "      <td>0</td>\n",
       "      <td>0</td>\n",
       "      <td>0</td>\n",
       "      <td>0</td>\n",
       "      <td>0</td>\n",
       "      <td>0</td>\n",
       "      <td>...</td>\n",
       "      <td>0</td>\n",
       "      <td>0</td>\n",
       "      <td>0</td>\n",
       "      <td>0</td>\n",
       "      <td>0</td>\n",
       "      <td>0</td>\n",
       "      <td>0</td>\n",
       "      <td>0</td>\n",
       "      <td>0</td>\n",
       "      <td>0</td>\n",
       "    </tr>\n",
       "    <tr>\n",
       "      <th>4</th>\n",
       "      <td>0</td>\n",
       "      <td>0</td>\n",
       "      <td>0</td>\n",
       "      <td>0</td>\n",
       "      <td>0</td>\n",
       "      <td>1</td>\n",
       "      <td>0</td>\n",
       "      <td>0</td>\n",
       "      <td>0</td>\n",
       "      <td>0</td>\n",
       "      <td>...</td>\n",
       "      <td>0</td>\n",
       "      <td>0</td>\n",
       "      <td>0</td>\n",
       "      <td>0</td>\n",
       "      <td>0</td>\n",
       "      <td>0</td>\n",
       "      <td>0</td>\n",
       "      <td>0</td>\n",
       "      <td>0</td>\n",
       "      <td>0</td>\n",
       "    </tr>\n",
       "  </tbody>\n",
       "</table>\n",
       "<p>5 rows × 6719 columns</p>\n",
       "</div>"
      ],
      "text/plain": [
       "   0     1     2     3     4     5     6     7     8     9     ...  6709  \\\n",
       "0     0     0     0     0     0     0     0     0     0     0  ...     0   \n",
       "1     0     0     0     0     0     0     0     0     0     0  ...     0   \n",
       "2     0     0     0     0     0     0     0     0     0     0  ...     0   \n",
       "3     0     0     0     0     0     0     0     0     0     0  ...     0   \n",
       "4     0     0     0     0     0     1     0     0     0     0  ...     0   \n",
       "\n",
       "   6710  6711  6712  6713  6714  6715  6716  6717  6718  \n",
       "0     0     0     0     0     0     0     0     0     0  \n",
       "1     0     0     0     0     0     0     0     0     0  \n",
       "2     0     0     0     0     0     0     0     0     0  \n",
       "3     0     0     0     0     0     0     0     0     0  \n",
       "4     0     0     0     0     0     0     0     0     0  \n",
       "\n",
       "[5 rows x 6719 columns]"
      ]
     },
     "execution_count": 50,
     "metadata": {},
     "output_type": "execute_result"
    }
   ],
   "source": [
    "m = pd.DataFrame.sparse.from_spmatrix(adj_r0c10)\n",
    "print(m.shape)\n",
    "m.head()"
   ]
  },
  {
   "cell_type": "code",
   "execution_count": 58,
   "id": "4a1d30cd",
   "metadata": {
    "ExecuteTime": {
     "end_time": "2021-11-12T13:24:53.161954Z",
     "start_time": "2021-11-12T13:24:52.075183Z"
    }
   },
   "outputs": [
    {
     "data": {
      "text/plain": [
       "(array([   0,    0,    0, ..., 6718, 6718, 6718]),\n",
       " array([  18,   69,   74, ..., 6624, 6635, 6709]))"
      ]
     },
     "execution_count": 58,
     "metadata": {},
     "output_type": "execute_result"
    }
   ],
   "source": [
    "q = np.where(m == 1)\n",
    "q"
   ]
  },
  {
   "cell_type": "code",
   "execution_count": 72,
   "id": "581a3ec8",
   "metadata": {
    "ExecuteTime": {
     "end_time": "2021-11-12T13:29:31.438517Z",
     "start_time": "2021-11-12T13:29:31.357669Z"
    }
   },
   "outputs": [
    {
     "name": "stdout",
     "output_type": "stream",
     "text": [
      "(6719, 7)\n"
     ]
    },
    {
     "name": "stderr",
     "output_type": "stream",
     "text": [
      "/gpfs/bbp.cscs.ch/home/sood/rsynced/work/project/proj83/topological-analysis-of-subvolumes/connsense/pipeline.py:213: FutureWarning: Passing lists as key for xs is deprecated and will be removed in a future version. Pass key as a tuple instead.\n",
      "  \n"
     ]
    }
   ],
   "source": [
    "nodes = tap.data.get_nodes(\"Bio_M\", s)\n",
    "print(nodes.shape)\n",
    "edges = pd.DataFrame({\"pre\": q[0], \"post\": q[1]})"
   ]
  },
  {
   "cell_type": "code",
   "execution_count": 68,
   "id": "638813af",
   "metadata": {
    "ExecuteTime": {
     "end_time": "2021-11-12T13:27:33.680151Z",
     "start_time": "2021-11-12T13:27:33.669690Z"
    }
   },
   "outputs": [
    {
     "data": {
      "text/plain": [
       "circuit  subtarget\n",
       "Bio_M    R0;C10       INH\n",
       "         R0;C10       INH\n",
       "         R0;C10       INH\n",
       "         R0;C10       INH\n",
       "         R0;C10       INH\n",
       "                     ... \n",
       "         R0;C10       INH\n",
       "         R0;C10       INH\n",
       "         R0;C10       INH\n",
       "         R0;C10       INH\n",
       "         R0;C10       INH\n",
       "Name: synapse_class, Length: 6719, dtype: category\n",
       "Categories (2, object): ['EXC', 'INH']"
      ]
     },
     "execution_count": 68,
     "metadata": {},
     "output_type": "execute_result"
    }
   ],
   "source": [
    "nodes.synapse_class"
   ]
  },
  {
   "cell_type": "code",
   "execution_count": 74,
   "id": "70c41467",
   "metadata": {
    "ExecuteTime": {
     "end_time": "2021-11-12T13:32:04.171249Z",
     "start_time": "2021-11-12T13:32:03.864775Z"
    }
   },
   "outputs": [
    {
     "data": {
      "text/plain": [
       "pre  post\n",
       "EXC  EXC     688332\n",
       "INH  EXC      74644\n",
       "EXC  INH      66218\n",
       "INH  INH       6973\n",
       "dtype: int64"
      ]
     },
     "execution_count": 74,
     "metadata": {},
     "output_type": "execute_result"
    }
   ],
   "source": [
    "pre_sc = nodes.synapse_class.iloc[edges.pre.values]\n",
    "post_sc = nodes.synapse_class.iloc[edges.post.values]\n",
    "\n",
    "pd.DataFrame({\"pre\": pre_sc, \"post\": post_sc}).value_counts()"
   ]
  },
  {
   "cell_type": "code",
   "execution_count": 80,
   "id": "9685525f",
   "metadata": {
    "ExecuteTime": {
     "end_time": "2021-11-12T13:36:14.954409Z",
     "start_time": "2021-11-12T13:36:14.946863Z"
    }
   },
   "outputs": [],
   "source": [
    "def count_edges_by_synapse_class(data, circuit, subtargets=None):\n",
    "    \"\"\"...\"\"\"\n",
    "    subtargets = subtargets or data.get_subtargets(circuit)\n",
    "    \n",
    "    def count_subtarget(s):\n",
    "        \"\"\"...\"\"\"\n",
    "        nodes = data.get_nodes(circuit, subtarget=s)\n",
    "        adj = data.get_adjacency(circuit, subtarget=s, connectome=\"local\")\n",
    "        edge_nodes = np.where(pd.DataFrame.sparse.from_spmatrix(adj))\n",
    "        edges = pd.DataFrame({\"pre\": edge_nodes[0], \"post\": edge_nodes[1]})\n",
    "        \n",
    "        pre_sc = nodes.synapse_class.iloc[edges.pre.values]\n",
    "        post_sc = nodes.synapse_class.iloc[edges.post.values]\n",
    "        \n",
    "        return pd.DataFrame({\"pre\": pre_sc, \"post\": post_sc}).value_counts()\n",
    "    \n",
    "    return pd.concat([count_subtarget(s) for s in subtargets],\n",
    "                    keys=subtargets, names=[\"subtarget\"])\n",
    "        "
   ]
  },
  {
   "cell_type": "code",
   "execution_count": 84,
   "id": "55e4bf8d",
   "metadata": {
    "ExecuteTime": {
     "end_time": "2021-11-12T13:39:13.703745Z",
     "start_time": "2021-11-12T13:38:36.709250Z"
    }
   },
   "outputs": [
    {
     "name": "stderr",
     "output_type": "stream",
     "text": [
      "/gpfs/bbp.cscs.ch/home/sood/rsynced/work/project/proj83/topological-analysis-of-subvolumes/connsense/pipeline.py:213: FutureWarning: Passing lists as key for xs is deprecated and will be removed in a future version. Pass key as a tuple instead.\n",
      "  return self.nodes.xs(query, level=level)\n",
      "/gpfs/bbp.cscs.ch/home/sood/rsynced/work/project/proj83/topological-analysis-of-subvolumes/connsense/pipeline.py:227: FutureWarning: Passing lists as key for xs is deprecated and will be removed in a future version. Pass key as a tuple instead.\n",
      "  adj = self.adjacency.xs(query, level=level)\n"
     ]
    }
   ],
   "source": [
    "sample = pd.Series(tap.data.get_subtargets(\"Bio_M\")).sample(n=10).to_list()\n",
    "q = count_edges_by_synapse_class(tap.data, circuit=\"Bio_M\", subtargets=sample)"
   ]
  },
  {
   "cell_type": "code",
   "execution_count": 85,
   "id": "e144e730",
   "metadata": {
    "ExecuteTime": {
     "end_time": "2021-11-12T13:39:37.013854Z",
     "start_time": "2021-11-12T13:39:36.977817Z"
    }
   },
   "outputs": [
    {
     "data": {
      "text/html": [
       "<div>\n",
       "<style scoped>\n",
       "    .dataframe tbody tr th:only-of-type {\n",
       "        vertical-align: middle;\n",
       "    }\n",
       "\n",
       "    .dataframe tbody tr th {\n",
       "        vertical-align: top;\n",
       "    }\n",
       "\n",
       "    .dataframe thead th {\n",
       "        text-align: right;\n",
       "    }\n",
       "</style>\n",
       "<table border=\"1\" class=\"dataframe\">\n",
       "  <thead>\n",
       "    <tr style=\"text-align: right;\">\n",
       "      <th></th>\n",
       "      <th></th>\n",
       "      <th>min</th>\n",
       "      <th>mean</th>\n",
       "      <th>std</th>\n",
       "      <th>median</th>\n",
       "      <th>mad</th>\n",
       "      <th>max</th>\n",
       "    </tr>\n",
       "    <tr>\n",
       "      <th>pre</th>\n",
       "      <th>post</th>\n",
       "      <th></th>\n",
       "      <th></th>\n",
       "      <th></th>\n",
       "      <th></th>\n",
       "      <th></th>\n",
       "      <th></th>\n",
       "    </tr>\n",
       "  </thead>\n",
       "  <tbody>\n",
       "    <tr>\n",
       "      <th rowspan=\"2\" valign=\"top\">EXC</th>\n",
       "      <th>EXC</th>\n",
       "      <td>3</td>\n",
       "      <td>2.652602e+06</td>\n",
       "      <td>2.439863e+06</td>\n",
       "      <td>2668018.0</td>\n",
       "      <td>2.169243e+06</td>\n",
       "      <td>5541355</td>\n",
       "    </tr>\n",
       "    <tr>\n",
       "      <th>INH</th>\n",
       "      <td>1</td>\n",
       "      <td>2.115154e+05</td>\n",
       "      <td>1.723104e+05</td>\n",
       "      <td>228528.0</td>\n",
       "      <td>1.494122e+05</td>\n",
       "      <td>409621</td>\n",
       "    </tr>\n",
       "    <tr>\n",
       "      <th rowspan=\"2\" valign=\"top\">INH</th>\n",
       "      <th>EXC</th>\n",
       "      <td>1</td>\n",
       "      <td>2.261519e+05</td>\n",
       "      <td>1.811877e+05</td>\n",
       "      <td>243651.0</td>\n",
       "      <td>1.567983e+05</td>\n",
       "      <td>439634</td>\n",
       "    </tr>\n",
       "    <tr>\n",
       "      <th>INH</th>\n",
       "      <td>857</td>\n",
       "      <td>1.930088e+04</td>\n",
       "      <td>1.300104e+04</td>\n",
       "      <td>22607.0</td>\n",
       "      <td>1.082338e+04</td>\n",
       "      <td>34508</td>\n",
       "    </tr>\n",
       "  </tbody>\n",
       "</table>\n",
       "</div>"
      ],
      "text/plain": [
       "          min          mean           std     median           mad      max\n",
       "pre post                                                                   \n",
       "EXC EXC     3  2.652602e+06  2.439863e+06  2668018.0  2.169243e+06  5541355\n",
       "    INH     1  2.115154e+05  1.723104e+05   228528.0  1.494122e+05   409621\n",
       "INH EXC     1  2.261519e+05  1.811877e+05   243651.0  1.567983e+05   439634\n",
       "    INH   857  1.930088e+04  1.300104e+04    22607.0  1.082338e+04    34508"
      ]
     },
     "execution_count": 85,
     "metadata": {},
     "output_type": "execute_result"
    }
   ],
   "source": [
    "q.groupby([\"pre\", \"post\"]).agg([\"min\", \"mean\", \"std\", \"median\", \"mad\", \"max\"])"
   ]
  },
  {
   "cell_type": "code",
   "execution_count": null,
   "id": "dc272ff5",
   "metadata": {},
   "outputs": [],
   "source": []
  }
 ],
 "metadata": {
  "kernelspec": {
   "display_name": "Python 3 (ipykernel)",
   "language": "python",
   "name": "python3"
  },
  "language_info": {
   "codemirror_mode": {
    "name": "ipython",
    "version": 3
   },
   "file_extension": ".py",
   "mimetype": "text/x-python",
   "name": "python",
   "nbconvert_exporter": "python",
   "pygments_lexer": "ipython3",
   "version": "3.8.3"
  },
  "varInspector": {
   "cols": {
    "lenName": 16,
    "lenType": 16,
    "lenVar": 40
   },
   "kernels_config": {
    "python": {
     "delete_cmd_postfix": "",
     "delete_cmd_prefix": "del ",
     "library": "var_list.py",
     "varRefreshCmd": "print(var_dic_list())"
    },
    "r": {
     "delete_cmd_postfix": ") ",
     "delete_cmd_prefix": "rm(",
     "library": "var_list.r",
     "varRefreshCmd": "cat(var_dic_list()) "
    }
   },
   "types_to_exclude": [
    "module",
    "function",
    "builtin_function_or_method",
    "instance",
    "_Feature"
   ],
   "window_display": false
  }
 },
 "nbformat": 4,
 "nbformat_minor": 5
}

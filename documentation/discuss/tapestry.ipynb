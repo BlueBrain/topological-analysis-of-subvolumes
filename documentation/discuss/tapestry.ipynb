{
 "cells": [
  {
   "cell_type": "markdown",
   "id": "3269b7f6-af3d-4ac5-a87e-2b7f86905a82",
   "metadata": {},
   "source": [
    "Let us setup an interactive `Python` session where we can run the code\n",
    "developed here.\n",
    "\n",
    "``` jupyter\n",
    "print(\"Welcome to EMACS Jupyter\")\n",
    "```\n",
    "\n",
    "We will characterize the structure of activity across flatmap columns.\n",
    "For this we will need to look into the `long-range` connectivity\n",
    "*between* pairs of `flatmap-columns`.\n",
    "\n",
    "# Setup\n",
    "\n",
    "To get the notebook you will have to clone,\n",
    "\n",
    "``` shell\n",
    "git clone https://bbpgitlab.epfl.ch/conn/structural/topological-analysis-of-subvolumes.git\n",
    "git checkout beta\n",
    "```\n",
    "\n",
    "In our discussion we will develop scientific concepts to measure the\n",
    "circuit, and implement Python functions to compute them. Here we setup a\n",
    "notebook template to test and explore, and the structure of a `Python`\n",
    "package for our methods."
   ]
  },
  {
   "cell_type": "code",
   "execution_count": null,
   "id": "notebook-init",
   "metadata": {},
   "outputs": [],
   "source": [
    "from importlib import reload\n",
    "from collections.abc import Mapping\n",
    "from collections import OrderedDict\n",
    "from pprint import pprint, pformat\n",
    "from pathlib import Path\n",
    "\n",
    "import numpy as np\n",
    "import pandas as pd\n",
    "\n",
    "import matplotlib\n",
    "\n",
    "reload(matplotlib)\n",
    "from matplotlib import pylab as plt\n",
    "import seaborn as sbn\n",
    "\n",
    "from IPython.display import display\n",
    "\n",
    "from bluepy import Synapse, Cell, Circuit\n",
    "\n",
    "GOLDEN = (1. + np.sqrt(5.))/2.\n",
    "print(\"We will plot golden aspect ratios: \", GOLDEN)\n"
   ]
  },
  {
   "cell_type": "markdown",
   "id": "adebab5a-ac73-48ad-9f34-2d7c6fb5eed9",
   "metadata": {},
   "source": [
    "``` example\n",
    "We will plot golden aspect ratios:  1.618033988749895\n",
    "```\n",
    "\n",
    "## Workspaces\n",
    "\n",
    "We have run `connsense-CRAP` for the SSCx dissemination variant *Bio-M*,\n",
    "extracting data that we will use to compute the factology. Here is a\n",
    "list of workspaces we will need to generate factsheets."
   ]
  },
  {
   "cell_type": "code",
   "execution_count": null,
   "id": "notebook-workspaces",
   "metadata": {},
   "outputs": [],
   "source": [
    "ROOTSPACE = Path(\"/\")\n",
    "PROJSPACE = ROOTSPACE / \"gpfs/bbp.cscs.ch/project/proj83\"\n",
    "SOODSPACE = PROJSPACE / \"home/sood\"\n",
    "CONNSPACE = SOODSPACE / \"topological-analysis-subvolumes/test/v2\"\n",
    "DEVSPACE  = CONNSPACE / \"test\" / \"develop\"\n"
   ]
  },
  {
   "cell_type": "markdown",
   "id": "19c4fbcf-e997-4996-9d9e-e80eabd73d98",
   "metadata": {},
   "source": [
    "## `connsense` Modules\n",
    "\n",
    "While test-developing it will be good to have direct access to the\n",
    "`connsense-TAP-store` we will use. We will use a module from `connsense`\n",
    "to load the HDFstore,"
   ]
  },
  {
   "cell_type": "code",
   "execution_count": null,
   "id": "notebook-connsense-tap",
   "metadata": {},
   "outputs": [],
   "source": [
    "from connsense.develop import topotap as cnstap\n",
    "tap = cnstap.HDFStore(CONNSPACE/\"pipeline.yaml\")\n",
    "circuit = tap.get_circuit(\"Bio_M\")\n",
    "print(\"Available analyses: \")\n",
    "pprint(tap.analyses)\n",
    "circuit\n"
   ]
  },
  {
   "cell_type": "markdown",
   "id": "bb13210b-6f2e-4c53-b02f-0541cfc473c7",
   "metadata": {},
   "source": [
    "``` example\n",
    " 2023-03-16 09:14:21,574: Load circuit Bio_M\n",
    "Available analyses:\n",
    "{'connectivity': {'model-params-dd2': <connsense.develop.topotap.TapDataset object at 0x7fff5c2bc2e0>,\n",
    "                  'simplex-counts': <connsense.develop.topotap.TapDataset object at 0x7fff5c2bc3d0>}}\n",
    "<bluepy.circuit.Circuit at 0x7fffbb69ba00>\n",
    "```\n",
    "\n",
    "# Long range connectivity between `flatmap-columns`\n",
    "\n",
    "We want to summarize the *long-range* connectivity on top of\n",
    "*local-connectivity* of `flatmap-columns`. We can develop a concept of a\n",
    "`FlatmapColumn` as a `Python` class that can provide us with\n",
    "*long-range* sources and targets of a group of node ids in another\n",
    "`FlatmapColumn`,"
   ]
  },
  {
   "cell_type": "code",
   "execution_count": null,
   "id": "9d77e72e-2b8c-43b9-8594-4c404fa2e976",
   "metadata": {},
   "outputs": [],
   "source": [
    "CONNECTION_ID = [\"source_node\", \"target_node\"]\n",
    "SUBTARGET_ID = [\"subtarget_id\", \"circuit_id\"]\n",
    "NODE_ID = [\"subtarget_id\", \"circuit_id\", \"node_id\"]\n",
    "\n",
    "def sparse_csr(connections):\n",
    "    \"\"\"...\"\"\"\n",
    "    from scipy import sparse\n",
    "    connections_counted = connections.value_counts().rename(\"count\")\n",
    "    return sparse.csr_matrix(rows=connections.source_nodes.values,\n",
    "                             cols=connections.target_nodes.values)\n"
   ]
  },
  {
   "cell_type": "markdown",
   "id": "92dcc8ad-b867-4239-85c4-3111fc6b83a6",
   "metadata": {},
   "source": []
  },
  {
   "cell_type": "code",
   "execution_count": null,
   "id": "118c6727-b7a6-4178-94fa-e4cb198226fd",
   "metadata": {},
   "outputs": [],
   "source": [
    "\n",
    "def find_afferent(tap, flatmap_column, connectome):\n",
    "    \"\"\"...\"\"\"\n",
    "    target_gids = tap.nodes.dataset.loc[flatmap_column]().gid.rename(\"target_gid\")\n",
    "    target_gids.index.rename(\"target_node\", inplace=True)\n",
    "\n",
    "    incoming = target_gids.apply(connectome.afferent_gids).rename(\"source_gids\")\n",
    "    subtargets = assign_subtargets(tap)\n",
    "    sources = incoming.apply(subtargets.reindex)\n",
    "\n",
    "    return (pd.concat(sources.values, keys=sources.index).fillna(-1).astype(np.int)\n",
    "            .droplevel(\"gid\").reset_index().set_index(\"target_node\"))\n"
   ]
  },
  {
   "cell_type": "markdown",
   "id": "83419895-e127-4fc7-ac2c-b872669d7413",
   "metadata": {},
   "source": [
    "For efferent,"
   ]
  },
  {
   "cell_type": "code",
   "execution_count": null,
   "id": "4148ed61-c9e7-481a-9bfb-45e865cae26c",
   "metadata": {},
   "outputs": [],
   "source": [
    "def find_efferent(tap, flatmap_column, circuit, connectome):\n",
    "    \"\"\"...\"\"\"\n",
    "    raise NotImplementedError\n"
   ]
  },
  {
   "cell_type": "markdown",
   "id": "c7856528-c650-4673-859f-a26d6ccec6cb",
   "metadata": {},
   "source": [
    "We may also want a filter of edges,"
   ]
  },
  {
   "cell_type": "code",
   "execution_count": null,
   "id": "c1c695f5-e53e-41bf-8cba-8c3b157c0bb9",
   "metadata": {},
   "outputs": [],
   "source": [
    "def filter_edges(tapestry, flatmap_column, circuit, connectome, direction, and_apply=None):\n",
    "    \"\"\"Filter afferent or efferent edges of a flatmap-column in a circuit's connectome.\"\"\"\n",
    "    assert direction in (Direction.AFFERENT, Direction.EFFERENT),\\\n",
    "        f\"Invalid direction {direction}\"\n",
    "\n",
    "    affends = (find_afferent(tapestry, flatmap_column, circuit, connectome)\n",
    "               .reset_index().groupby(NODE_ID).target_node.apply(list))\n",
    "\n",
    "    def afferent(nodes):\n",
    "        \"\"\"Filter edges incoming from nodes.\"\"\"\n",
    "        source_nodes = index_subtarget(nodes)\n",
    "        target_nodes = (source_nodes.apply(lambda n: tuple(n.values), axis=1)\n",
    "                        .apply(lambda s: affends.loc[s]))\n",
    "        return target_nodes if not and_apply else and_apply(target_nodes)\n",
    "\n",
    "    def efferent(nodes):\n",
    "        \"\"\"Filter edges outgoing to nodes.\"\"\"\n",
    "        raise NotImplementedError(\"Efferent takes special care.\")\n",
    "\n",
    "    return afferent if direction == Direction.AFFERENT else efferent\n"
   ]
  },
  {
   "cell_type": "markdown",
   "id": "dd310357-1307-4fe8-8e2e-4cd940adf14b",
   "metadata": {},
   "source": [
    "We will need a subtarget assignment, a method that should be in tap."
   ]
  },
  {
   "cell_type": "code",
   "execution_count": null,
   "id": "e2ec1cd8-e489-4f9a-a3f4-d472f2702f20",
   "metadata": {},
   "outputs": [],
   "source": [
    "def assign_subtargets(tap):\n",
    "    \"\"\"...\"\"\"\n",
    "    def series(of_gids):\n",
    "        return pd.Series(of_gids, name=\"gid\",\n",
    "                         index=pd.RangeIndex(0, len(of_gids), 1, name=\"node_id\"))\n",
    "    return (pd.concat([series(gs) for gs in tap.subtarget_gids], axis=0,\n",
    "                      keys=tap.subtarget_gids.index)\n",
    "            .reset_index().set_index(\"gid\"))\n"
   ]
  },
  {
   "cell_type": "markdown",
   "id": "c2971317-782f-412a-ae20-f17b2f5a517b",
   "metadata": {},
   "source": [
    "## Simplices\n",
    "\n",
    "A method to get them from `topology`,"
   ]
  },
  {
   "cell_type": "code",
   "execution_count": null,
   "id": "211d08ea-4958-4ead-ac91-34bcb7a5df14",
   "metadata": {},
   "outputs": [],
   "source": [
    "def get_simplices(flatmap_column):\n",
    "    subtarget_id, circuit_id = flatmap_column\n",
    "    connectome_id = 0\n",
    "    adj = tap.adjacency.dataset.loc[subtarget_id, circuit_id, connectome_id]()\n",
    "    nodeps = tap.nodes.dataset.loc[subtarget_id, circuit_id]()\n",
    "    return pd.concat([topology.list_simplices_by_dimension(adj, nodeps)],\n",
    "                     keys=[(subtarget_id, circuit_id)], names=SUBTARGET_ID)\n",
    "\n",
    "\n",
    "def index_subtarget(tap, flatmap_column, nodes=None):\n",
    "    \"\"\"...\"\"\"\n",
    "    subtarget_id, circuit_id = flatmap_column\n",
    "\n",
    "    if nodes is None or (isinstance(nodes, str) and nodes.lower() == \"all\"):\n",
    "        nodes = tap.nodes.dataset.loc[subtarget_id, circuit_id].index.values\n",
    "\n",
    "    return pd.DataFrame({\"subtarget_id\": subtarget_id, \"circuit_id\": circuit_id,\n",
    "                         \"node_id\": nodes})\n",
    "\n"
   ]
  },
  {
   "cell_type": "markdown",
   "id": "84bdb455-29d3-4166-acde-153e626af09b",
   "metadata": {},
   "source": [
    "We can compute simplex lists in a the *local-connectome* of\n",
    "`flatmap-columns`. We would like to know if there are `target-nodes` in\n",
    "a given `flatmap-column` that are *post-synaptic* to all the nodes in a\n",
    "`simplex`. We can call the number of simplices that `sink` at a\n",
    "`target-node` as the `target-node`'s `sink-participation`. Analogously\n",
    "we can define a `source-node`'s `source-participation` by computing the\n",
    "number of `simplices` that `source` at the `source-node`."
   ]
  },
  {
   "cell_type": "code",
   "execution_count": null,
   "id": "66ac2a5a-f48b-46c1-b403-a07b96513e0f",
   "metadata": {},
   "outputs": [],
   "source": [
    "def find_sinks(tap, flatmap_column, circuit, connectome, affends=None):\n",
    "    \"\"\"Find simplices that sink at each node in a flatmap-column.\"\"\"\n",
    "\n",
    "    if affends is None:\n",
    "        affends = (find_afferent(tap, flatmap_column, circuit, connectome)\n",
    "                   .reset_index().groupby(NODE_ID).target_node.apply(list))\n",
    "\n",
    "    def of_source(flatmap_column, simplex_nodes):\n",
    "        sdim = len(simplex_nodes)\n",
    "        simplex = index_subtarget(tap, flatmap_column, simplex_nodes)\n",
    "        simplex.index.rename(\"spos\", inplace=True)\n",
    "        simplex_pos = simplex.reset_index().set_index(NODE_ID)\n",
    "\n",
    "        target_lists = (pd.concat([simplex_pos, affends.reindex(simplex_pos.index)], axis=1)\n",
    "                        .set_index(\"spos\").target_node).sort_index()\n",
    "        targets = pd.concat([pd.Series(ns, name=\"target_node\") for ns in target_lists],\n",
    "                            keys=target_lists.index).droplevel(None)\n",
    "        counts = targets.value_counts()\n",
    "        return counts.index[counts == sdim].values\n",
    "\n",
    "    of_source.afferent_edges = affends\n",
    "    return of_source\n"
   ]
  },
  {
   "cell_type": "markdown",
   "id": "723ebb68-05c5-46a5-8bec-0c0182a90fdc",
   "metadata": {},
   "source": [
    "How does a node in a *target* `flatmap-column` connect to `simplices` in\n",
    "other `flatmap-columns`? How many *local-connnectome* simplices in a\n",
    "given `flatmap-column` does a node connect to?\n",
    "\n",
    "What about sources?"
   ]
  },
  {
   "cell_type": "code",
   "execution_count": null,
   "id": "d718088b-c33c-431c-bd9f-e978f02036c3",
   "metadata": {},
   "outputs": [],
   "source": [
    "def find_sources(tap, flatmap_column, circuit, connectome, effends=None):\n",
    "    \"\"\"Find simplices that souce at each node in a flatmap-column.\"\"\"\n",
    "\n",
    "    if effends is None:\n",
    "        effends = (find_efferent(tap, flatmap_column, circuit, connectome)\n",
    "                   .reset_index().groupby(NODE_ID).target_node.apply(list))\n",
    "\n",
    "    def of_source(flatmap_column, simplex_nodes):\n",
    "        sdim = len(simplex_nodes)\n",
    "        simplex = index_subtarget(tap, flatmap_column, simplex_nodes)\n",
    "        simplex.index.rename(\"spos\", inplace=True)\n",
    "        simplex_pos = simplex.reset_index().set_index(NODE_ID)\n",
    "\n",
    "        target_lists = (pd.concat([simplex_pos, affends.reindex(simplex_pos.index)], axis=1)\n",
    "                        .set_index(\"spos\").target_node).sort_index()\n",
    "        targets = pd.concat([pd.Series(ns, name=\"target_node\") for ns in target_lists],\n",
    "                            keys=target_lists.index).droplevel(None)\n",
    "        counts = targets.value_counts()\n",
    "        return counts.index[counts == sdim].values\n",
    "\n",
    "    of_source.afferent_edges = affends\n",
    "    return of_source\n"
   ]
  },
  {
   "cell_type": "markdown",
   "id": "507f7eb3-af4a-46ab-9691-89c5d2f9bbeb",
   "metadata": {},
   "source": [
    "We have not implemented `find_efferent`. We may not need it if we change\n",
    "our approach.\n",
    "\n",
    "Connectivity is between a group of source nodes and a group of target\n",
    "nodes."
   ]
  },
  {
   "cell_type": "code",
   "execution_count": null,
   "id": "0cc2517f-9981-46db-a84e-1939cc0faf83",
   "metadata": {},
   "outputs": [],
   "source": [
    "def is_subtarget(reference):\n",
    "    \"\"\"...\"\"\"\n",
    "    ints = (int, np.uint8, np.uint16, np.uint32, np.uint64, np.int16, np.int32, np.int64)\n",
    "    return (isinstance(reference, tuple) and len(reference) == 2\n",
    "            and isinstance(reference[0], ints) and isinstance(reference[1], ints))\n",
    "\n",
    "\n",
    "def _resolve_subtarget(tap, reference):\n",
    "    \"\"\"...\"\"\"\n",
    "    if is_subtarget(reference):\n",
    "        return reference\n",
    "\n",
    "    s, _ = reference\n",
    "    if not is_subtarget(reference=s):\n",
    "        return None\n",
    "\n",
    "    return s\n",
    "\n",
    "\n",
    "def _resolve_nodes(tap, reference, indexed=True):\n",
    "    \"\"\"...\"\"\"\n",
    "    if is_subtarget(reference):\n",
    "        nodes = tap.nodes.dataset.loc[reference].index.values\n",
    "        return index_subtarget(tap, reference, nodes) if indexed else nodes\n",
    "\n",
    "    s, nodes = reference\n",
    "    if not is_subtarget(reference=s):\n",
    "        return None\n",
    "\n",
    "    return index_subtarget(tap, s, nodes)\n",
    "\n",
    "\n",
    "def find_edges(tap, sources=None, targets=None, *, connectome):\n",
    "    \"\"\"Find connectome edges from nodes among sources to nodes among targets.\"\"\"\n",
    "    source_nodes = _resolve_nodes(sources, indexed=True)\n",
    "    target_nodes = _resolve_nodes(targets, indexed=False)\n",
    "\n",
    "    afferent = (find_afferent(tap, _resolve_subtarget(targets), connectome)\n",
    "                .reset_index().groupby(NODE_ID).target_node.apply(list))\n",
    "\n",
    "\n",
    "\n"
   ]
  },
  {
   "cell_type": "markdown",
   "id": "c0b5e155-6e9d-4787-a722-8920c28e7c12",
   "metadata": {},
   "source": [
    "# Incoming connections to a simplex\n",
    "\n",
    "A simplex is a fully directional one represented as a vector of integer\n",
    "node ids. We compute the simplices in `connsense-TAP` to be represented\n",
    "as local `node-ids` which we can translate to the `global-id` (`gid`)\n",
    "using the `subtarget`'s `node-properties`. Then we can look up the\n",
    "`long-range` connetome's `afferent` gids, map them to the\n",
    "`flatmap-columns`, and compute a scalar or vector `weight` for them.\n",
    "Thus we will have a length `N` vector of `weights` for each `simplex`\n",
    "(of a given dimension) in a given `flatmap-column`. Over all the columns\n",
    "we have a matrix of weights that can be plotted as a `heatmap`. We can\n",
    "visualize individual rows or columns over a `flatmap-grid`.\n",
    "\n",
    "We can compute the weights based on filters. Let us develop these ideas\n",
    "further in code."
   ]
  },
  {
   "cell_type": "code",
   "execution_count": null,
   "id": "ce28ca7f-66d8-42cc-8653-9dcaebf0bd7e",
   "metadata": {},
   "outputs": [],
   "source": [
    "def gather_inputs(circuit, subtarget, simplex, *, tap):\n",
    "    \"\"\"...\"\"\"\n",
    "    gids = tap.\n",
    "\n"
   ]
  },
  {
   "cell_type": "markdown",
   "id": "f8e74869-2836-4979-aaa8-97ed338da19f",
   "metadata": {},
   "source": [
    "# Appendix\n",
    "\n",
    "## Setup computational environment"
   ]
  }
 ],
 "metadata": {
  "kernelspec": {
   "display_name": "Python 3",
   "language": "python",
   "name": "python3"
  },
  "language_info": {
   "codemirror_mode": {
    "name": "ipython",
    "version": 3
   },
   "file_extension": ".py",
   "mimetype": "text/x-python",
   "name": "python",
   "nbconvert_exporter": "python",
   "pygments_lexer": "ipython3",
   "version": "3.9.16"
  },
  "toc": {
   "base_numbering": 1,
   "nav_menu": {},
   "number_sections": true,
   "sideBar": true,
   "skip_h1_title": false,
   "title_cell": "Table of Contents",
   "title_sidebar": "Contents",
   "toc_cell": false,
   "toc_position": {},
   "toc_section_display": true,
   "toc_window_display": false
  }
 },
 "nbformat": 4,
 "nbformat_minor": 5
}

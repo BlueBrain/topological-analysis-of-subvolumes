{
 "cells": [
  {
   "cell_type": "markdown",
   "id": "bd5ee353-4a6a-4034-812a-920612d9ef2c",
   "metadata": {},
   "source": [
    "Let us setup an interactive `Python` session where we can run the code\n",
    "developed here.\n",
    "\n",
    "``` jupyter\n",
    "print(\"Welcome to EMACS Jupyter\")\n",
    "```\n",
    "\n",
    "We develop topological analyses of brain circuits, and implement\n",
    "`Python` code that we can use with to configure a `connsense-pipeline`.\n",
    "Instead of the connectivity of the whole circuit *Mosaic*, our focus\n",
    "will be `circuit-subtargets` that are geometrically defined. We will\n",
    "start by describing how to configure a `connsense-pipeline`, run it, and\n",
    "use `connsensnse-tap` to access and analyze the data.\n",
    "\n",
    "# Setup\n",
    "\n",
    "In our discussion we will develop scientific concepts to measure the\n",
    "circuit, and implement Python functions to compute them. Here we setup a\n",
    "notebook template to test and explore, and the structure of a `Python`\n",
    "package for our methods.\n",
    "\n",
    "To get the notebook you will have to clone,\n",
    "\n",
    "``` shell\n",
    "git clone https://bbpgitlab.epfl.ch/conn/structural/topological-analysis-of-subvolumes.git\n",
    "git checkout beta\n",
    "```"
   ]
  },
  {
   "cell_type": "code",
   "execution_count": null,
   "id": "notebook-init",
   "metadata": {},
   "outputs": [],
   "source": [
    "from importlib import reload\n",
    "from collections.abc import Mapping\n",
    "from collections import OrderedDict\n",
    "from pprint import pprint, pformat\n",
    "from pathlib import Path\n",
    "\n",
    "import numpy as np\n",
    "import pandas as pd\n",
    "\n",
    "import matplotlib\n",
    "\n",
    "reload(matplotlib)\n",
    "from matplotlib import pylab as plt\n",
    "import seaborn as sbn\n",
    "\n",
    "from IPython.display import display\n",
    "\n",
    "from bluepy import Synapse, Cell, Circuit\n",
    "\n",
    "GOLDEN = (1. + np.sqrt(5.))/2.\n",
    "print(\"We will plot golden aspect ratios: \", GOLDEN)\n"
   ]
  },
  {
   "cell_type": "markdown",
   "id": "e6977ef1-951c-4b1e-83cd-95938baf24a3",
   "metadata": {},
   "source": [
    "``` example\n",
    "We will plot golden aspect ratios:  1.618033988749895\n",
    "```\n",
    "\n",
    "## Workspaces\n",
    "\n",
    "We have run `connsense-CRAP` for the SSCx dissemination variant *Bio-M*,\n",
    "extracting data that we will use to compute the factology. Here is a\n",
    "list of workspaces we will need to generate factsheets."
   ]
  },
  {
   "cell_type": "code",
   "execution_count": null,
   "id": "notebook-workspaces",
   "metadata": {},
   "outputs": [],
   "source": [
    "ROOTSPACE = Path(\"/\")\n",
    "PROJSPACE = ROOTSPACE / \"gpfs/bbp.cscs.ch/project/proj83\"\n",
    "SOODSPACE = PROJSPACE / \"home/sood\"\n",
    "CONNSPACE = SOODSPACE / \"topological-analysis-subvolumes/test/v2\"\n",
    "DEVSPACE  = CONNSPACE / \"test\" / \"develop\"\n"
   ]
  },
  {
   "cell_type": "markdown",
   "id": "de31821d-faef-4639-89f6-dfdf18318406",
   "metadata": {},
   "source": [
    "## `connsense` Modules\n",
    "\n",
    "While test-developing it will be good to have direct access to the\n",
    "`connsense-TAP-store` we will use. We will use a module from `connsense`\n",
    "to load the HDFstore,"
   ]
  },
  {
   "cell_type": "code",
   "execution_count": null,
   "id": "notebook-connsense-tap",
   "metadata": {},
   "outputs": [],
   "source": [
    "from connsense.develop import topotap as cnstap\n",
    "tap = cnstap.HDFStore(CONNSPACE/\"pipeline.yaml\")\n",
    "circuit = tap.get_circuit(\"Bio_M\")\n",
    "print(\"Available analyses: \")\n",
    "pprint(tap.analyses)\n",
    "circuit\n"
   ]
  },
  {
   "cell_type": "markdown",
   "id": "dad33a24-75b5-4cde-a5c1-db00940debf8",
   "metadata": {},
   "source": [
    "# Introduction\n",
    "\n",
    "We will study flatmap columns. In the circuit's flatmap we have the\n",
    "following grid,"
   ]
  },
  {
   "cell_type": "code",
   "execution_count": null,
   "id": "6e9eb88d-a1f3-4e49-8a3b-366a5321b8e2",
   "metadata": {
    "exports": "both",
    "file": "./figures/flatmap.png"
   },
   "outputs": [],
   "source": [
    "from flatmap_utility import subtargets as fmst\n",
    "fmst.fmap_positions(circuit, over_flatmap_voxels=None, with_orientations=None,\n",
    "                    to_subpixel_resolution=True, dropna=True)\n"
   ]
  },
  {
   "cell_type": "markdown",
   "id": "516308fd-abec-436f-85aa-ded8ddbdbf76",
   "metadata": {},
   "source": []
  },
  {
   "cell_type": "code",
   "execution_count": null,
   "id": "b84cf64b-ea40-45e1-bae9-f7251763eb9c",
   "metadata": {
    "exports": "both",
    "file": "./figures/flatmap.png"
   },
   "outputs": [],
   "source": [
    "from flatmap_utility import subtargets as fmst, tessellate\n",
    "flat_xys = fmst.fmap_positions(in_data=circuit)\n",
    "tritille = tessellate.TriTille(230.0)\n",
    "graphic_fmap_cells = tritille.plot_hextiles(flat_xys,\n",
    "                                            annotate=False, with_grid=False, pointmarker=\".\", pointmarkersize=0.05)\n",
    "graphic_fmap_cells[0]\n"
   ]
  },
  {
   "attachments": {},
   "cell_type": "markdown",
   "id": "228bf5ef-ebc2-4312-8407-a68cf0487cc5",
   "metadata": {},
   "source": [
    "``` example\n",
    "/gpfs/bbp.cscs.ch/project/proj83/analyses/topological-analysis-subvolumes/proj83/topological-analysis-of-subvolumes/flatmap_utility/flatmap_utility.py:199: UserWarning: Optimal rotation is not uniquely or poorly defined for the given sets of vectors.\n",
    "  res = Rotation.align_vectors(vtgt, vv)\n",
    "Rotation errors: min: 0.0, median: 0.09387602600937707, mean: 0.1362824184485066, std: 0.15664142313770807, max: 2.0\n",
    "```\n",
    "\n",
    "![](attachment:./figures/flatmap.png)\n",
    "\n",
    "# Pipeline: TODO\n",
    "\n",
    "# TAP CLI\n",
    "\n",
    "# Subtargets\n",
    "\n",
    "We have information about subtargets in `tap`,"
   ]
  },
  {
   "cell_type": "code",
   "execution_count": null,
   "id": "06c1a640-8e8e-4fa7-8173-441257e1ae69",
   "metadata": {
    "tangle": "no"
   },
   "outputs": [],
   "source": [
    "display(tap.subtargets)\n"
   ]
  },
  {
   "cell_type": "markdown",
   "id": "6e869747-0476-4bf6-83df-7fe4d247d4e3",
   "metadata": {},
   "source": [
    "Each one is a straight up cylinderical column in the flatmap-space, and\n",
    "a conical column in circuit's physical space. Each `subtarget` is\n",
    "associated with a list of gids,"
   ]
  },
  {
   "cell_type": "code",
   "execution_count": null,
   "id": "9d3c76a0-bb97-4af2-9f4d-e34792962d08",
   "metadata": {
    "file": "./figures/subtarget-sizes.png",
    "tangle": "no"
   },
   "outputs": [],
   "source": [
    "fig_subtarget_sizes = plt.figure(figsize=(GOLDEN * 12, 12))\n",
    "\n",
    "ax = sbn.histplot(tap.subtarget_gids.apply(len).values, bins=25,\n",
    "                  ax=fig_subtarget_sizes.add_subplot())\n"
   ]
  },
  {
   "cell_type": "markdown",
   "id": "ebc0d63d-445c-466f-9b89-a7da11d02349",
   "metadata": {},
   "source": [
    "We have `subtargets`' `conicality, volume, and height` in the `info`. We\n",
    "may not be able to compute these values for each `flatmap-column`. Some\n",
    "may have a geometry that does not resolve to our computations. The `nan`\n",
    "values for `conicality` are found in,"
   ]
  },
  {
   "cell_type": "code",
   "execution_count": null,
   "id": "12780b0d-5c4c-4806-bfbe-5363d2b0e5d7",
   "metadata": {
    "exports": "both",
    "file": "./figures/nan_flatmap.png"
   },
   "outputs": [],
   "source": [
    "flat_xy = OrderedDict([(\"flat_x\", \"x\"), (\"flat_y\", \"y\")])\n",
    "nanxys = tap.subtargets[list(flat_xy.keys())].rename(columns=flat_xy)\n",
    "\n",
    "graphic_nanfmap = tritille.plot_hextiles(nangxys, annotate=False)\n",
    "graphic_nanfmap[0]\n"
   ]
  },
  {
   "attachments": {},
   "cell_type": "markdown",
   "id": "18c8d6ac-22c2-4f82-bee6-61ae6b1f31f9",
   "metadata": {},
   "source": [
    "``` example\n",
    "\u001b[0;31m---------------------------------------------------------------------------\u001b[0m\n",
    "\u001b[0;31mNameError\u001b[0m                                 Traceback (most recent call last)\n",
    "\u001b[0;32m/tmp/ipykernel_28068/3521415563.py\u001b[0m in \u001b[0;36m<module>\u001b[0;34m\u001b[0m\n",
    "\u001b[1;32m      2\u001b[0m \u001b[0mnanxys\u001b[0m \u001b[0;34m=\u001b[0m \u001b[0mtap\u001b[0m\u001b[0;34m.\u001b[0m\u001b[0msubtargets\u001b[0m\u001b[0;34m[\u001b[0m\u001b[0mlist\u001b[0m\u001b[0;34m(\u001b[0m\u001b[0mflat_xy\u001b[0m\u001b[0;34m.\u001b[0m\u001b[0mkeys\u001b[0m\u001b[0;34m(\u001b[0m\u001b[0;34m)\u001b[0m\u001b[0;34m)\u001b[0m\u001b[0;34m]\u001b[0m\u001b[0;34m.\u001b[0m\u001b[0mrename\u001b[0m\u001b[0;34m(\u001b[0m\u001b[0mcolumns\u001b[0m\u001b[0;34m=\u001b[0m\u001b[0mflat_xy\u001b[0m\u001b[0;34m)\u001b[0m\u001b[0;34m\u001b[0m\u001b[0;34m\u001b[0m\u001b[0m\n",
    "\u001b[1;32m      3\u001b[0m \u001b[0;34m\u001b[0m\u001b[0m\n",
    "\u001b[0;32m----> 4\u001b[0;31m \u001b[0mgraphic_nanfmap\u001b[0m \u001b[0;34m=\u001b[0m \u001b[0mtritille\u001b[0m\u001b[0;34m.\u001b[0m\u001b[0mplot_hextiles\u001b[0m\u001b[0;34m(\u001b[0m\u001b[0mnangxys\u001b[0m\u001b[0;34m,\u001b[0m \u001b[0mannotate\u001b[0m\u001b[0;34m=\u001b[0m\u001b[0;32mFalse\u001b[0m\u001b[0;34m)\u001b[0m\u001b[0;34m\u001b[0m\u001b[0;34m\u001b[0m\u001b[0m\n",
    "\u001b[0m\u001b[1;32m      5\u001b[0m \u001b[0mgraphic_nanfmap\u001b[0m\u001b[0;34m[\u001b[0m\u001b[0;36m0\u001b[0m\u001b[0;34m]\u001b[0m\u001b[0;34m\u001b[0m\u001b[0;34m\u001b[0m\u001b[0m\n",
    "```\n",
    "\n",
    ":\n",
    "\n",
    "``` example\n",
    "\u001b[0;31mNameError\u001b[0m: name 'tritille' is not defined\n",
    "```\n",
    "\n",
    "<img src=\"attachment:./figures/nan_flatmap.png\"\n",
    "style=\"width:95.0%;height:95.0%\" />\n",
    "\n",
    "# Nodes\n",
    "\n",
    "We extract node properties as `extract-node-populations/default`, and\n",
    "can access the node-properties using `tap`,"
   ]
  },
  {
   "cell_type": "code",
   "execution_count": null,
   "id": "ebb64959-ba3d-4d6e-adef-6949b40c1878",
   "metadata": {
    "tangle": "no"
   },
   "outputs": [],
   "source": [
    "nodes = cnstap.TapDataset(tap, (\"extract-node-populations\", \"default\"), belazy=False)\n"
   ]
  },
  {
   "cell_type": "markdown",
   "id": "36397ab2-5d39-41b6-b1a6-77b5c1645617",
   "metadata": {},
   "source": [
    "As you can tell from the numbers that the `nodes` dataframe contains all\n",
    "the nodes in all the subtargets (*i.e* all circuit nodes except those\n",
    "that could not be flatmapped). This dataframe is no different from the\n",
    "`circuit.cells` one, except that the `subtarget` is avaialble in the\n",
    "index,"
   ]
  },
  {
   "cell_type": "code",
   "execution_count": null,
   "id": "4e3ee9b5-2e0b-4cd8-abfc-e1f56484930b",
   "metadata": {
    "tangle": "no"
   },
   "outputs": [],
   "source": [
    "display(nodes.frame[ [\"gid\", \"layer\", \"mtype\"] ].head())\n"
   ]
  },
  {
   "cell_type": "markdown",
   "id": "502a4c6e-2d32-40f3-9a96-8497c1f2eff5",
   "metadata": {},
   "source": [
    "Notice the `node_id` which is not the same as `gid`. The `node_id` value\n",
    "is local to the `subtarget`.\n",
    "\n",
    "# Adjacency matrices\n",
    "\n",
    "Adjacency matrices for edges in the local connectome were extracted as\n",
    "`extract-edge-populations/local`. This data is stored as sparse\n",
    "matrices, and hence using `.frame` on the non-lazy data not make much\n",
    "sense. The data is also much larger than nodes. We should stick to the\n",
    "lazy `datacalls` loaded by `tap`,"
   ]
  },
  {
   "cell_type": "code",
   "execution_count": null,
   "id": "7b647446-97dc-4492-9575-47ee27f841d4",
   "metadata": {
    "tangle": "no"
   },
   "outputs": [],
   "source": [
    "display(tap.adjacency.frame.head())\n"
   ]
  },
  {
   "cell_type": "markdown",
   "id": "230d6b99-9bb8-4a8a-ae93-1606a6bc1e0e",
   "metadata": {},
   "source": [
    "Each entry can be expanded when needed,"
   ]
  },
  {
   "cell_type": "code",
   "execution_count": null,
   "id": "0963a87a-7831-4298-9951-55dc13242bd7",
   "metadata": {
    "tangle": "no"
   },
   "outputs": [],
   "source": [
    "adj = tap.adjacency.dataset.iloc[0]()\n",
    "\n",
    "print(\"matrix of type\", type(adj), \"and shape\", adj.shape,\n",
    "      \"number of connections\", adj.astype(bool).sum())\n"
   ]
  },
  {
   "cell_type": "markdown",
   "id": "0ed3ff9c-4ba5-4292-8c74-b295eabe82cd",
   "metadata": {},
   "source": [
    "# Analyses\n",
    "\n",
    "## Simplex counts\n",
    "\n",
    "We already have results for simplex-counts in a `tap-store` resulting\n",
    "from a run of the \\~connsense-pipeline- developed in <span\n",
    "class=\"spurious-link\" target=\"Pipeline\">*Pipeline*</span>. Let us load\n",
    "the simplex-counts,"
   ]
  },
  {
   "cell_type": "code",
   "execution_count": null,
   "id": "9d8765bb-5ab7-4d49-87fe-3a6fd71d83c3",
   "metadata": {},
   "outputs": [],
   "source": [
    "simplex_counts = cnstap.TapDataset(tap, (\"analyze-connectivity\", \"simplex-counts\"),\n",
    "                                   belazy=False)\n",
    "print(\"Simplex counts as a %s\"%(type(simplex_counts),))\n"
   ]
  },
  {
   "cell_type": "markdown",
   "id": "969e70be-1b6d-4608-a353-3d6ded64d426",
   "metadata": {},
   "source": [
    "We have run simplex counts for both the full (original and 5 ER\n",
    "controls) adjacency matrices, and their slices by layer. We can load the\n",
    "results for the `full-flatcolumns` as a dataframe,"
   ]
  },
  {
   "cell_type": "code",
   "execution_count": null,
   "id": "88593ed8-1c44-4c4b-bdf8-3f9b78654996",
   "metadata": {},
   "outputs": [],
   "source": [
    "simplex_counts.frame[\"full\"]\n"
   ]
  },
  {
   "cell_type": "markdown",
   "id": "4150a370-53b2-40c9-8339-cdfef0003879",
   "metadata": {},
   "source": [
    "This computation will take a while, as all the simplex counts, for both\n",
    "the full and layer will be decompressed from `connsense.h5` and loaded\n",
    "into a `pandas.DataFrame`. In about a minute you should see the result.\n",
    "Once loaded, the dataframe will stay with the object\n",
    "`simplex_counts.frame`. For layers we have an extra level in the index,"
   ]
  },
  {
   "cell_type": "code",
   "execution_count": null,
   "id": "b7d73a59-2e10-4523-9a7e-0a0c7914ce68",
   "metadata": {},
   "outputs": [],
   "source": [
    "simplex_counts.frame[\"layer\"]\n"
   ]
  },
  {
   "cell_type": "markdown",
   "id": "7f553c27-da00-4493-8ded-ba8b1f5d96e7",
   "metadata": {},
   "source": [
    "We find a `nan` where no simplices were found. Each individual\n",
    "computation on a single `flatcolumn` returns an array / series of\n",
    "simplex counts by dimension *upto* the maximum dimension of simplices\n",
    "found in that `flatcolumn`. When we concatenated these data into a\n",
    "single `frame`, the max-dimension was set to the maximum of maxima over\n",
    "all `flatcolumns` (and their randomizations). This filled in `nan`\n",
    "values for `flatcolumns` that did not have the higher missing\n",
    "dimensions. While we can replace the `nans` by zeros, as that is what\n",
    "they mean, they do offer a convenient way to compute the max-dimension,"
   ]
  },
  {
   "cell_type": "code",
   "execution_count": null,
   "id": "22829e62-653f-46ad-a297-9c21ed654fdb",
   "metadata": {},
   "outputs": [],
   "source": [
    "from tqdm import tqdm; tqdm.pandas()\n",
    "\n",
    "maxdim = (simplex_counts.frame[\"full\"]\n",
    "          .apply(lambda subtarget: len(subtarget.dropna()), axis=1)\n",
    "          .rename(\"dim\"))\n",
    "\n",
    "display(maxdim)\n"
   ]
  },
  {
   "cell_type": "markdown",
   "id": "0ae6069d-7fcb-435c-922f-df0cc8b40dc5",
   "metadata": {},
   "source": [
    "which we can convert to a plot,"
   ]
  },
  {
   "cell_type": "code",
   "execution_count": null,
   "id": "62e317e5-4b71-47dc-8bfb-c122d05be814",
   "metadata": {
    "file": "./figures/violins_maxdim_vs_control.png"
   },
   "outputs": [],
   "source": [
    "fig_maxdim = plt.figure(figsize=(GOLDEN * 8, 8))\n",
    "_ax = sbn.violinplot(x=\"control\", y=\"dim\", data=maxdim.reset_index(),\n",
    "                     ax=fig_maxdim.add_subplot())\n",
    "fig_maxdim\n"
   ]
  },
  {
   "cell_type": "markdown",
   "id": "e8a655b5-3c3c-458f-8080-2167fbe57b28",
   "metadata": {},
   "source": [
    "What about each layer?"
   ]
  },
  {
   "cell_type": "code",
   "execution_count": null,
   "id": "3ccdbca3-2ea3-4291-bb7d-10798b869824",
   "metadata": {},
   "outputs": [],
   "source": [
    "maxdim_by_layer = (simplex_counts.frame[\"layer\"]\n",
    "                   .apply(lambda subtarget: len(subtarget.dropna()), axis=1)\n",
    "                   .rename(\"dim\"))\n",
    "\n",
    "display(maxdim_by_layer)\n"
   ]
  },
  {
   "cell_type": "markdown",
   "id": "da7de2cf-8449-419f-bc5e-97ec888df534",
   "metadata": {},
   "source": [
    "and it looks like,"
   ]
  },
  {
   "cell_type": "code",
   "execution_count": null,
   "id": "b37cf34e-b60e-44cf-b3fa-35d54e043610",
   "metadata": {
    "tangle": "no"
   },
   "outputs": [],
   "source": [
    "fig_maxdim_by_layer = plt.figure(figsize=(GOLDEN * 8, 8))\n",
    "_ax = sbn.violinplot(x=\"control\", y=\"dim\", hue=\"layer\", data=maxdim_by_layer.reset_index(),\n",
    "                     ax=fig_maxdim_by_layer.add_subplot())\n",
    "fig_maxdim_by_layer\n"
   ]
  },
  {
   "cell_type": "markdown",
   "id": "5815f33d-f072-456a-b4a6-4c42217476c7",
   "metadata": {},
   "source": [
    "## Model Params DD2\n",
    "\n",
    "Loading the results for second order distance dependent model is similar\n",
    "to simplex counts,"
   ]
  },
  {
   "cell_type": "code",
   "execution_count": null,
   "id": "3a2e3f15-7307-4573-b1ec-b3cca74040a5",
   "metadata": {},
   "outputs": [],
   "source": [
    "params_dd2 = cnstap.TapDataset(tap, (\"analyze-connectivity\", \"model-params-dd2\"),\n",
    "                               belazy=False)\n",
    "display(params_dd2.frame)\n"
   ]
  },
  {
   "cell_type": "markdown",
   "id": "a89f7222-fb9d-4be2-af52-925c3f83fd2d",
   "metadata": {},
   "source": [
    "## Simplices\n",
    "\n",
    "We would like to analyze higher order statistics of simplices than the\n",
    "humble simplex counts. We could save simplices as lists for each\n",
    "subtarget input. However this data can be large. To reduce the computed\n",
    "data's size, we can compute statistics on each `subtarget`'s simplices,"
   ]
  },
  {
   "cell_type": "code",
   "execution_count": null,
   "id": "200c2388-b3d9-4ded-a7f8-2edc70bc0273",
   "metadata": {},
   "outputs": [],
   "source": [
    "def node_participation(simplices):\n",
    "    \"\"\"Compute node participation from DataFrame of simplices,\n",
    "    containing a list of simplices in each row.\n",
    "    \"\"\"\n",
    "    return simplices.apply(lambda column: column.value_counts(), axis=0).fillna(0).astype(int)\n"
   ]
  },
  {
   "cell_type": "markdown",
   "id": "bd497460-194e-4a26-8590-f3929885a8ce",
   "metadata": {},
   "source": [
    "or for edge participation,"
   ]
  },
  {
   "cell_type": "code",
   "execution_count": null,
   "id": "d48ef152-66b4-47d3-b98e-67732ee0c47a",
   "metadata": {},
   "outputs": [],
   "source": [
    "def edge_participation(simplices):\n",
    "    \"\"\"Compute node participation from DataFrame of simplices,\n",
    "    containing a list of simplices in each row.\n",
    "    \"\"\"\n",
    "    edge_positions = list(range(simplices.shape[1]))[:-1]\n",
    "\n",
    "    def value_count_edge(position):\n",
    "        counts = simplices[ [position, position+1] ].value_counts().rename(position)\n",
    "        counts.index.rename([\"source\", \"target\"], inplace=True)\n",
    "        return counts\n",
    "\n",
    "    return pd.concat([value_count_edge(p) for p in edge_positions], axis=1).fillna(0).astype(int)\n"
   ]
  },
  {
   "cell_type": "markdown",
   "id": "1ecc89e8-931a-4b65-ac2a-b35d4c0759dc",
   "metadata": {},
   "source": [
    "# Scratch"
   ]
  },
  {
   "cell_type": "code",
   "execution_count": null,
   "id": "41698dda-779d-4f45-b865-5bada40c69d2",
   "metadata": {
    "tangle": "no"
   },
   "outputs": [],
   "source": []
  }
 ],
 "metadata": {
  "kernelspec": {
   "display_name": "Python 3",
   "language": "python",
   "name": "python3"
  },
  "language_info": {
   "codemirror_mode": {
    "name": "ipython",
    "version": 3
   },
   "file_extension": ".py",
   "mimetype": "text/x-python",
   "name": "python",
   "nbconvert_exporter": "python",
   "pygments_lexer": "ipython3",
   "version": "3.9.16"
  },
  "toc": {
   "base_numbering": 1,
   "nav_menu": {},
   "number_sections": true,
   "sideBar": true,
   "skip_h1_title": false,
   "title_cell": "Table of Contents",
   "title_sidebar": "Contents",
   "toc_cell": false,
   "toc_position": {},
   "toc_section_display": true,
   "toc_window_display": false
  }
 },
 "nbformat": 4,
 "nbformat_minor": 5
}
